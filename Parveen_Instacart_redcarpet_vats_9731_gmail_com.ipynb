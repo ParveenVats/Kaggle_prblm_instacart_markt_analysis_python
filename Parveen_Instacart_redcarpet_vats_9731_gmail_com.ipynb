{
  "nbformat": 4,
  "nbformat_minor": 0,
  "metadata": {
    "kernelspec": {
      "display_name": "Python 3",
      "language": "python",
      "name": "python3"
    },
    "language_info": {
      "codemirror_mode": {
        "name": "ipython",
        "version": 3
      },
      "file_extension": ".py",
      "mimetype": "text/x-python",
      "name": "python",
      "nbconvert_exporter": "python",
      "pygments_lexer": "ipython3",
      "version": "3.7.3"
    },
    "colab": {
      "name": "Parveen_Instacart_redcarpet_vats.9731@gmail.com.ipynb",
      "version": "0.3.2",
      "provenance": [],
      "include_colab_link": true
    }
  },
  "cells": [
    {
      "cell_type": "markdown",
      "metadata": {
        "id": "view-in-github",
        "colab_type": "text"
      },
      "source": [
        "<a href=\"https://colab.research.google.com/github/ParveenVats/Kaggle_prblm_instacart_markt_analysis_python/blob/master/Parveen_Instacart_redcarpet_vats_9731_gmail_com.ipynb\" target=\"_parent\"><img src=\"https://colab.research.google.com/assets/colab-badge.svg\" alt=\"Open In Colab\"/></a>"
      ]
    },
    {
      "cell_type": "markdown",
      "metadata": {
        "id": "pcvSp9hVfR52",
        "colab_type": "text"
      },
      "source": [
        "##  Instacart  Market Basket\n",
        "\n",
        "                                                                              Parveen Kumar (vats.9731@gmail.com)"
      ]
    },
    {
      "cell_type": "markdown",
      "metadata": {
        "id": "9qmO6Q2LfR57",
        "colab_type": "text"
      },
      "source": [
        "### 0. Library Import & Data Loading"
      ]
    },
    {
      "cell_type": "code",
      "metadata": {
        "id": "XHh6ISjzfR5-",
        "colab_type": "code",
        "colab": {}
      },
      "source": [
        "import pandas as pd\n",
        "import numpy as np\n",
        "import gc # Garbage Collector interface\n",
        "import matplotlib.pyplot as plt\n",
        "import seaborn as sns\n",
        "%matplotlib inline\n",
        "from google.colab import files"
      ],
      "execution_count": 0,
      "outputs": []
    },
    {
      "cell_type": "code",
      "metadata": {
        "id": "aTSRsnrihCS6",
        "colab_type": "code",
        "colab": {}
      },
      "source": [
        "uploaded=files.upload()\n"
      ],
      "execution_count": 0,
      "outputs": []
    },
    {
      "cell_type": "code",
      "metadata": {
        "id": "1wU5kiQT48XR",
        "colab_type": "code",
        "outputId": "3d31c3b2-2767-4dee-d52b-759c7b93e297",
        "colab": {
          "resources": {
            "http://localhost:8080/nbextensions/google.colab/files.js": {
              "data": "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",
              "ok": true,
              "headers": [
                [
                  "content-type",
                  "application/javascript"
                ]
              ],
              "status": 200,
              "status_text": ""
            }
          },
          "base_uri": "https://localhost:8080/",
          "height": 74
        }
      },
      "source": [
        "uploaded=files.upload()"
      ],
      "execution_count": 0,
      "outputs": [
        {
          "output_type": "display_data",
          "data": {
            "text/html": [
              "\n",
              "     <input type=\"file\" id=\"files-9df76b67-277b-43e4-bd49-77cac6e32d25\" name=\"files[]\" multiple disabled />\n",
              "     <output id=\"result-9df76b67-277b-43e4-bd49-77cac6e32d25\">\n",
              "      Upload widget is only available when the cell has been executed in the\n",
              "      current browser session. Please rerun this cell to enable.\n",
              "      </output>\n",
              "      <script src=\"/nbextensions/google.colab/files.js\"></script> "
            ],
            "text/plain": [
              "<IPython.core.display.HTML object>"
            ]
          },
          "metadata": {
            "tags": []
          }
        },
        {
          "output_type": "stream",
          "text": [
            "Saving products.csv to products (1).csv\n"
          ],
          "name": "stdout"
        }
      ]
    },
    {
      "cell_type": "code",
      "metadata": {
        "id": "YSraxmbCr99h",
        "colab_type": "code",
        "outputId": "caaaaa0f-f53a-421b-eb89-12f9bf45dcf6",
        "colab": {
          "resources": {
            "http://localhost:8080/nbextensions/google.colab/files.js": {
              "data": "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",
              "ok": true,
              "headers": [
                [
                  "content-type",
                  "application/javascript"
                ]
              ],
              "status": 200,
              "status_text": ""
            }
          },
          "base_uri": "https://localhost:8080/",
          "height": 74
        }
      },
      "source": [
        "uploaded=files.upload()"
      ],
      "execution_count": 0,
      "outputs": [
        {
          "output_type": "display_data",
          "data": {
            "text/html": [
              "\n",
              "     <input type=\"file\" id=\"files-459d37ec-8972-4a73-889a-7328809b5843\" name=\"files[]\" multiple disabled />\n",
              "     <output id=\"result-459d37ec-8972-4a73-889a-7328809b5843\">\n",
              "      Upload widget is only available when the cell has been executed in the\n",
              "      current browser session. Please rerun this cell to enable.\n",
              "      </output>\n",
              "      <script src=\"/nbextensions/google.colab/files.js\"></script> "
            ],
            "text/plain": [
              "<IPython.core.display.HTML object>"
            ]
          },
          "metadata": {
            "tags": []
          }
        },
        {
          "output_type": "stream",
          "text": [
            "Saving departments.csv to departments (1).csv\n"
          ],
          "name": "stdout"
        }
      ]
    },
    {
      "cell_type": "code",
      "metadata": {
        "id": "08xGXw1ltiJH",
        "colab_type": "code",
        "outputId": "0c90e0ed-b837-476c-8a91-45c9ffa2ae3a",
        "colab": {
          "resources": {
            "http://localhost:8080/nbextensions/google.colab/files.js": {
              "data": "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",
              "ok": true,
              "headers": [
                [
                  "content-type",
                  "application/javascript"
                ]
              ],
              "status": 200,
              "status_text": ""
            }
          },
          "base_uri": "https://localhost:8080/",
          "height": 74
        }
      },
      "source": [
        "uploaded=files.upload()"
      ],
      "execution_count": 0,
      "outputs": [
        {
          "output_type": "display_data",
          "data": {
            "text/html": [
              "\n",
              "     <input type=\"file\" id=\"files-a221f6fe-747d-46f6-ab97-d66eab5fc3d1\" name=\"files[]\" multiple disabled />\n",
              "     <output id=\"result-a221f6fe-747d-46f6-ab97-d66eab5fc3d1\">\n",
              "      Upload widget is only available when the cell has been executed in the\n",
              "      current browser session. Please rerun this cell to enable.\n",
              "      </output>\n",
              "      <script src=\"/nbextensions/google.colab/files.js\"></script> "
            ],
            "text/plain": [
              "<IPython.core.display.HTML object>"
            ]
          },
          "metadata": {
            "tags": []
          }
        },
        {
          "output_type": "stream",
          "text": [
            "Saving products.csv to products.csv\n"
          ],
          "name": "stdout"
        }
      ]
    },
    {
      "cell_type": "code",
      "metadata": {
        "id": "mouf2AHSu59_",
        "colab_type": "code",
        "outputId": "61ff320f-4308-4be8-e216-29ef8021c1d3",
        "colab": {
          "resources": {
            "http://localhost:8080/nbextensions/google.colab/files.js": {
              "data": "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",
              "ok": true,
              "headers": [
                [
                  "content-type",
                  "application/javascript"
                ]
              ],
              "status": 200,
              "status_text": ""
            }
          },
          "base_uri": "https://localhost:8080/",
          "height": 74
        }
      },
      "source": [
        "uploaded=files.upload()\n"
      ],
      "execution_count": 0,
      "outputs": [
        {
          "output_type": "display_data",
          "data": {
            "text/html": [
              "\n",
              "     <input type=\"file\" id=\"files-11ab5efc-dc15-4aff-b769-3668c0617914\" name=\"files[]\" multiple disabled />\n",
              "     <output id=\"result-11ab5efc-dc15-4aff-b769-3668c0617914\">\n",
              "      Upload widget is only available when the cell has been executed in the\n",
              "      current browser session. Please rerun this cell to enable.\n",
              "      </output>\n",
              "      <script src=\"/nbextensions/google.colab/files.js\"></script> "
            ],
            "text/plain": [
              "<IPython.core.display.HTML object>"
            ]
          },
          "metadata": {
            "tags": []
          }
        },
        {
          "output_type": "stream",
          "text": [
            "Saving orders.csv to orders.csv\n"
          ],
          "name": "stdout"
        }
      ]
    },
    {
      "cell_type": "code",
      "metadata": {
        "id": "uNZtJ5fEw9Nn",
        "colab_type": "code",
        "outputId": "72a957a3-ead1-4e83-eaeb-b6e07a5225d9",
        "colab": {
          "resources": {
            "http://localhost:8080/nbextensions/google.colab/files.js": {
              "data": "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",
              "ok": true,
              "headers": [
                [
                  "content-type",
                  "application/javascript"
                ]
              ],
              "status": 200,
              "status_text": ""
            }
          },
          "base_uri": "https://localhost:8080/",
          "height": 74
        }
      },
      "source": [
        "uploaded=files.upload()"
      ],
      "execution_count": 0,
      "outputs": [
        {
          "output_type": "display_data",
          "data": {
            "text/html": [
              "\n",
              "     <input type=\"file\" id=\"files-c9d3481f-068a-4851-8a01-9015fd397a54\" name=\"files[]\" multiple disabled />\n",
              "     <output id=\"result-c9d3481f-068a-4851-8a01-9015fd397a54\">\n",
              "      Upload widget is only available when the cell has been executed in the\n",
              "      current browser session. Please rerun this cell to enable.\n",
              "      </output>\n",
              "      <script src=\"/nbextensions/google.colab/files.js\"></script> "
            ],
            "text/plain": [
              "<IPython.core.display.HTML object>"
            ]
          },
          "metadata": {
            "tags": []
          }
        },
        {
          "output_type": "stream",
          "text": [
            "Saving order_products__prior.csv to order_products__prior (1).csv\n"
          ],
          "name": "stdout"
        }
      ]
    },
    {
      "cell_type": "code",
      "metadata": {
        "id": "ILhruvzSyY0R",
        "colab_type": "code",
        "outputId": "fbc2571a-242a-4cec-b88a-47c7513d12b1",
        "colab": {
          "resources": {
            "http://localhost:8080/nbextensions/google.colab/files.js": {
              "data": "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",
              "ok": true,
              "headers": [
                [
                  "content-type",
                  "application/javascript"
                ]
              ],
              "status": 200,
              "status_text": ""
            }
          },
          "base_uri": "https://localhost:8080/",
          "height": 74
        }
      },
      "source": [
        "uploaded=files.upload()"
      ],
      "execution_count": 0,
      "outputs": [
        {
          "output_type": "display_data",
          "data": {
            "text/html": [
              "\n",
              "     <input type=\"file\" id=\"files-cd91ac63-6a5f-427c-b158-5f87529c97a7\" name=\"files[]\" multiple disabled />\n",
              "     <output id=\"result-cd91ac63-6a5f-427c-b158-5f87529c97a7\">\n",
              "      Upload widget is only available when the cell has been executed in the\n",
              "      current browser session. Please rerun this cell to enable.\n",
              "      </output>\n",
              "      <script src=\"/nbextensions/google.colab/files.js\"></script> "
            ],
            "text/plain": [
              "<IPython.core.display.HTML object>"
            ]
          },
          "metadata": {
            "tags": []
          }
        },
        {
          "output_type": "stream",
          "text": [
            "Saving order_products__train.csv to order_products__train.csv\n"
          ],
          "name": "stdout"
        }
      ]
    },
    {
      "cell_type": "code",
      "metadata": {
        "id": "8d8nTnvAfR6K",
        "colab_type": "code",
        "colab": {}
      },
      "source": [
        "# data loading\n",
        "aisles =pd.read_csv('./aisles.csv')\n",
        "dep = pd.read_csv('./departments.csv')\n",
        "ord_prd_pr = pd.read_csv('./order_products__prior.csv')\n",
        "ord_prd_tr = pd.read_csv('./order_products__train.csv')\n",
        "orders = pd.read_csv('./orders.csv')\n",
        "products = pd.read_csv('./products.csv')"
      ],
      "execution_count": 0,
      "outputs": []
    },
    {
      "cell_type": "markdown",
      "metadata": {
        "id": "CTTyVIrVzdWQ",
        "colab_type": "text"
      },
      "source": [
        "# New Section"
      ]
    },
    {
      "cell_type": "code",
      "metadata": {
        "id": "9aGesJsL2ypr",
        "colab_type": "code",
        "outputId": "ec52fc52-c1f3-4b25-cccc-ca2747843668",
        "colab": {
          "base_uri": "https://localhost:8080/",
          "height": 204
        }
      },
      "source": [
        "products.head()"
      ],
      "execution_count": 0,
      "outputs": [
        {
          "output_type": "execute_result",
          "data": {
            "text/html": [
              "<div>\n",
              "<style scoped>\n",
              "    .dataframe tbody tr th:only-of-type {\n",
              "        vertical-align: middle;\n",
              "    }\n",
              "\n",
              "    .dataframe tbody tr th {\n",
              "        vertical-align: top;\n",
              "    }\n",
              "\n",
              "    .dataframe thead th {\n",
              "        text-align: right;\n",
              "    }\n",
              "</style>\n",
              "<table border=\"1\" class=\"dataframe\">\n",
              "  <thead>\n",
              "    <tr style=\"text-align: right;\">\n",
              "      <th></th>\n",
              "      <th>product_id</th>\n",
              "      <th>aisle_id</th>\n",
              "      <th>department_id</th>\n",
              "    </tr>\n",
              "  </thead>\n",
              "  <tbody>\n",
              "    <tr>\n",
              "      <th>0</th>\n",
              "      <td>1</td>\n",
              "      <td>61</td>\n",
              "      <td>19</td>\n",
              "    </tr>\n",
              "    <tr>\n",
              "      <th>1</th>\n",
              "      <td>2</td>\n",
              "      <td>104</td>\n",
              "      <td>13</td>\n",
              "    </tr>\n",
              "    <tr>\n",
              "      <th>2</th>\n",
              "      <td>3</td>\n",
              "      <td>94</td>\n",
              "      <td>7</td>\n",
              "    </tr>\n",
              "    <tr>\n",
              "      <th>3</th>\n",
              "      <td>4</td>\n",
              "      <td>38</td>\n",
              "      <td>1</td>\n",
              "    </tr>\n",
              "    <tr>\n",
              "      <th>4</th>\n",
              "      <td>5</td>\n",
              "      <td>5</td>\n",
              "      <td>13</td>\n",
              "    </tr>\n",
              "  </tbody>\n",
              "</table>\n",
              "</div>"
            ],
            "text/plain": [
              "   product_id  aisle_id  department_id\n",
              "0           1        61             19\n",
              "1           2       104             13\n",
              "2           3        94              7\n",
              "3           4        38              1\n",
              "4           5         5             13"
            ]
          },
          "metadata": {
            "tags": []
          },
          "execution_count": 52
        }
      ]
    },
    {
      "cell_type": "code",
      "metadata": {
        "id": "RxZlT2cRfR6T",
        "colab_type": "code",
        "colab": {}
      },
      "source": [
        "# Changing some columns types to int for less memory usage\n",
        "aisles['aisle'] = aisles['aisle'].astype('category')\n",
        "dep['department'] = dep['department'].astype('category')\n",
        "orders['eval_set'] = orders['eval_set'].astype('category')\n",
        "#products['product_name'] = products['product_name'].astype('category')\n",
        "\n",
        "orders.order_dow = orders.order_dow.astype(np.int8)\n",
        "orders.order_hour_of_day = orders.order_hour_of_day.astype(np.int8)\n",
        "orders.order_number = orders.order_number.astype(np.int16)\n",
        "orders.order_id = orders.order_id.astype(np.int32)\n",
        "orders.user_id = orders.user_id.astype(np.int32)\n",
        "orders.days_since_prior_order = orders.days_since_prior_order.astype(np.float32)\n",
        "\n",
        "#products.drop(['product_name'], axis=1, inplace=True)\n",
        "products.aisle_id = products.aisle_id.astype(np.int8)\n",
        "products.department_id = products.department_id.astype(np.int8)\n",
        "products.product_id = products.product_id.astype(np.int32)\n",
        "\n",
        "ord_prd_tr.reordered = ord_prd_tr.reordered.astype(np.int8)\n",
        "ord_prd_tr.add_to_cart_order = ord_prd_tr.add_to_cart_order.astype(np.int16)\n",
        "\n",
        "ord_prd_pr.order_id = ord_prd_pr.order_id.astype(np.int32)\n",
        "#ord_prd_pr.add_to_cart_order = ord_prd_pr.add_to_cart_order.astype(np.int16)\n",
        "#ord_prd_pr.reordered = ord_prd_pr.reordered.astype(np.int8)\n",
        "#ord_prd_pr.product_id = ord_prd_pr.product_id.astype(np.int32)"
      ],
      "execution_count": 0,
      "outputs": []
    },
    {
      "cell_type": "code",
      "metadata": {
        "id": "Lt86079LfR6Z",
        "colab_type": "code",
        "outputId": "f8dd4719-bb0c-44fe-c92f-a9677f793981",
        "colab": {
          "base_uri": "https://localhost:8080/",
          "height": 85
        }
      },
      "source": [
        "print('orders {}: {}'.format(orders.shape, ', '.join(orders.columns)))\n",
        "print('products {}: {}'.format(products.shape, ', '.join(products.columns)))\n",
        "print('ord_prd_tr {}: {}'.format(ord_prd_tr.shape, ', '.join(ord_prd_tr.columns)))\n",
        "print('ord_prd_pr {}: {}'.format(ord_prd_pr.shape, ', '.join(ord_prd_pr.columns)))"
      ],
      "execution_count": 0,
      "outputs": [
        {
          "output_type": "stream",
          "text": [
            "orders (1048575, 7): order_id, user_id, eval_set, order_number, order_dow, order_hour_of_day, days_since_prior_order\n",
            "products (49688, 3): product_id, aisle_id, department_id\n",
            "ord_prd_tr (1048575, 4): order_id, product_id, add_to_cart_order, reordered\n",
            "ord_prd_pr (981949, 4): order_id, product_id, add_to_cart_order, reordered\n"
          ],
          "name": "stdout"
        }
      ]
    },
    {
      "cell_type": "markdown",
      "metadata": {
        "id": "BVdsAaIufR6j",
        "colab_type": "text"
      },
      "source": [
        "### 1. EDA"
      ]
    },
    {
      "cell_type": "markdown",
      "metadata": {
        "id": "WJZs_Q0UfR6m",
        "colab_type": "text"
      },
      "source": [
        "#### (1)  Orders data -> prior, train, test set "
      ]
    },
    {
      "cell_type": "markdown",
      "metadata": {
        "collapsed": true,
        "id": "82Pqiq-xfR6p",
        "colab_type": "text"
      },
      "source": [
        "* eval_set"
      ]
    },
    {
      "cell_type": "code",
      "metadata": {
        "id": "reY-Dp_CfR6s",
        "colab_type": "code",
        "outputId": "4a55f960-7953-43ed-b85f-b348ac1dc264",
        "colab": {
          "base_uri": "https://localhost:8080/",
          "height": 85
        }
      },
      "source": [
        "cnt_df = orders.eval_set.value_counts()\n",
        "cnt_df"
      ],
      "execution_count": 0,
      "outputs": [
        {
          "output_type": "execute_result",
          "data": {
            "text/plain": [
              "prior    985475\n",
              "train     40096\n",
              "test      23004\n",
              "Name: eval_set, dtype: int64"
            ]
          },
          "metadata": {
            "tags": []
          },
          "execution_count": 54
        }
      ]
    },
    {
      "cell_type": "code",
      "metadata": {
        "id": "4k7arPVxfR60",
        "colab_type": "code",
        "outputId": "a4a074c7-1f46-449e-ebbb-66c90c03df61",
        "colab": {
          "base_uri": "https://localhost:8080/",
          "height": 319
        }
      },
      "source": [
        "plt.figure(figsize= (5,4))\n",
        "sns.barplot(cnt_df.index, cnt_df.values)\n",
        "plt.ylabel('Number of Occurrences',fontsize = 10)\n",
        "plt.xlabel('Eval set type', fontsize = 15)\n",
        "plt.title('Count of rows in each dataset', fontsize = 20)\n",
        "plt.xticks(rotation = 'vertical')\n",
        "plt.show()"
      ],
      "execution_count": 0,
      "outputs": [
        {
          "output_type": "display_data",
          "data": {
            "image/png": "[encoded data removed]",
            "text/plain": [
              "<Figure size 360x288 with 1 Axes>"
            ]
          },
          "metadata": {
            "tags": []
          }
        }
      ]
    },
    {
      "cell_type": "markdown",
      "metadata": {
        "id": "fmf_4FPZfR66",
        "colab_type": "text"
      },
      "source": [
        "### 2. Feature Engineering"
      ]
    },
    {
      "cell_type": "code",
      "metadata": {
        "id": "YwDjMxBUfR68",
        "colab_type": "code",
        "colab": {}
      },
      "source": [
        "data_ = {'Product_Features': ['prod_average_cart_position','prod_orders','prod_reorder_probability', 'prod_reorder_times','prod_reorder_ratio','-','-','-','-'],\n",
        "        'User_Features' : ['user_orders', 'user_period', 'user_mean_days_since_prior', 'user_total_products','user_reorder_ratio',\n",
        "                            'user_distinct_products','user_reorder_ratio','user_distinct_products','user_average_basket'],\n",
        "        'User_Products_interaction': ['up_orders','up_first_orders', 'up_last_orders','up_average_cart_position','up_order_rate',\n",
        "                                      'up_orders_since_last_order','up_order_rate_since_first_order','-','-'],\n",
        "        'Recency' : ['days_since_prior_order', '-','-','-','-','-','-','-','-']}\n",
        "\n",
        "frame = pd.DataFrame(data_, index = [1,2,3,4,5,6,7,8,9])"
      ],
      "execution_count": 0,
      "outputs": []
    },
    {
      "cell_type": "code",
      "metadata": {
        "id": "uce2DQGnfR7C",
        "colab_type": "code",
        "outputId": "8b3610f5-2f88-4fec-c982-3422b2b6b64f",
        "colab": {
          "base_uri": "https://localhost:8080/",
          "height": 328
        }
      },
      "source": [
        "frame"
      ],
      "execution_count": 0,
      "outputs": [
        {
          "output_type": "execute_result",
          "data": {
            "text/html": [
              "<div>\n",
              "<style scoped>\n",
              "    .dataframe tbody tr th:only-of-type {\n",
              "        vertical-align: middle;\n",
              "    }\n",
              "\n",
              "    .dataframe tbody tr th {\n",
              "        vertical-align: top;\n",
              "    }\n",
              "\n",
              "    .dataframe thead th {\n",
              "        text-align: right;\n",
              "    }\n",
              "</style>\n",
              "<table border=\"1\" class=\"dataframe\">\n",
              "  <thead>\n",
              "    <tr style=\"text-align: right;\">\n",
              "      <th></th>\n",
              "      <th>Product_Features</th>\n",
              "      <th>User_Features</th>\n",
              "      <th>User_Products_interaction</th>\n",
              "      <th>Recency</th>\n",
              "    </tr>\n",
              "  </thead>\n",
              "  <tbody>\n",
              "    <tr>\n",
              "      <th>1</th>\n",
              "      <td>prod_average_cart_position</td>\n",
              "      <td>user_orders</td>\n",
              "      <td>up_orders</td>\n",
              "      <td>days_since_prior_order</td>\n",
              "    </tr>\n",
              "    <tr>\n",
              "      <th>2</th>\n",
              "      <td>prod_orders</td>\n",
              "      <td>user_period</td>\n",
              "      <td>up_first_orders</td>\n",
              "      <td>-</td>\n",
              "    </tr>\n",
              "    <tr>\n",
              "      <th>3</th>\n",
              "      <td>prod_reorder_probability</td>\n",
              "      <td>user_mean_days_since_prior</td>\n",
              "      <td>up_last_orders</td>\n",
              "      <td>-</td>\n",
              "    </tr>\n",
              "    <tr>\n",
              "      <th>4</th>\n",
              "      <td>prod_reorder_times</td>\n",
              "      <td>user_total_products</td>\n",
              "      <td>up_average_cart_position</td>\n",
              "      <td>-</td>\n",
              "    </tr>\n",
              "    <tr>\n",
              "      <th>5</th>\n",
              "      <td>prod_reorder_ratio</td>\n",
              "      <td>user_reorder_ratio</td>\n",
              "      <td>up_order_rate</td>\n",
              "      <td>-</td>\n",
              "    </tr>\n",
              "    <tr>\n",
              "      <th>6</th>\n",
              "      <td>-</td>\n",
              "      <td>user_distinct_products</td>\n",
              "      <td>up_orders_since_last_order</td>\n",
              "      <td>-</td>\n",
              "    </tr>\n",
              "    <tr>\n",
              "      <th>7</th>\n",
              "      <td>-</td>\n",
              "      <td>user_reorder_ratio</td>\n",
              "      <td>up_order_rate_since_first_order</td>\n",
              "      <td>-</td>\n",
              "    </tr>\n",
              "    <tr>\n",
              "      <th>8</th>\n",
              "      <td>-</td>\n",
              "      <td>user_distinct_products</td>\n",
              "      <td>-</td>\n",
              "      <td>-</td>\n",
              "    </tr>\n",
              "    <tr>\n",
              "      <th>9</th>\n",
              "      <td>-</td>\n",
              "      <td>user_average_basket</td>\n",
              "      <td>-</td>\n",
              "      <td>-</td>\n",
              "    </tr>\n",
              "  </tbody>\n",
              "</table>\n",
              "</div>"
            ],
            "text/plain": [
              "             Product_Features  ...                 Recency\n",
              "1  prod_average_cart_position  ...  days_since_prior_order\n",
              "2                 prod_orders  ...                       -\n",
              "3    prod_reorder_probability  ...                       -\n",
              "4          prod_reorder_times  ...                       -\n",
              "5          prod_reorder_ratio  ...                       -\n",
              "6                           -  ...                       -\n",
              "7                           -  ...                       -\n",
              "8                           -  ...                       -\n",
              "9                           -  ...                       -\n",
              "\n",
              "[9 rows x 4 columns]"
            ]
          },
          "metadata": {
            "tags": []
          },
          "execution_count": 57
        }
      ]
    },
    {
      "cell_type": "markdown",
      "metadata": {
        "id": "oL1eAzb-fR7J",
        "colab_type": "text"
      },
      "source": [
        "#### (1) Product data reshaping (products + department + aisles)"
      ]
    },
    {
      "cell_type": "code",
      "metadata": {
        "id": "_QYVyJNmfR7L",
        "colab_type": "code",
        "outputId": "1161caf0-b0e4-4542-99fa-7709fc93cc5b",
        "colab": {
          "base_uri": "https://localhost:8080/",
          "height": 142
        }
      },
      "source": [
        "df_products = pd.merge(left = products, right = dep, on = 'department_id', how = 'left')\n",
        "goods = pd.merge(left = df_products, right = aisles, on = 'aisle_id', how = 'left')\n",
        "goods.tail(3)"
      ],
      "execution_count": 0,
      "outputs": [
        {
          "output_type": "execute_result",
          "data": {
            "text/html": [
              "<div>\n",
              "<style scoped>\n",
              "    .dataframe tbody tr th:only-of-type {\n",
              "        vertical-align: middle;\n",
              "    }\n",
              "\n",
              "    .dataframe tbody tr th {\n",
              "        vertical-align: top;\n",
              "    }\n",
              "\n",
              "    .dataframe thead th {\n",
              "        text-align: right;\n",
              "    }\n",
              "</style>\n",
              "<table border=\"1\" class=\"dataframe\">\n",
              "  <thead>\n",
              "    <tr style=\"text-align: right;\">\n",
              "      <th></th>\n",
              "      <th>product_id</th>\n",
              "      <th>aisle_id</th>\n",
              "      <th>department_id</th>\n",
              "      <th>department</th>\n",
              "      <th>aisle</th>\n",
              "    </tr>\n",
              "  </thead>\n",
              "  <tbody>\n",
              "    <tr>\n",
              "      <th>49685</th>\n",
              "      <td>49686</td>\n",
              "      <td>112</td>\n",
              "      <td>3</td>\n",
              "      <td>bakery</td>\n",
              "      <td>bread</td>\n",
              "    </tr>\n",
              "    <tr>\n",
              "      <th>49686</th>\n",
              "      <td>49687</td>\n",
              "      <td>41</td>\n",
              "      <td>8</td>\n",
              "      <td>pets</td>\n",
              "      <td>cat food care</td>\n",
              "    </tr>\n",
              "    <tr>\n",
              "      <th>49687</th>\n",
              "      <td>49688</td>\n",
              "      <td>73</td>\n",
              "      <td>11</td>\n",
              "      <td>personal care</td>\n",
              "      <td>facial care</td>\n",
              "    </tr>\n",
              "  </tbody>\n",
              "</table>\n",
              "</div>"
            ],
            "text/plain": [
              "       product_id  aisle_id  department_id     department          aisle\n",
              "49685       49686       112              3         bakery          bread\n",
              "49686       49687        41              8           pets  cat food care\n",
              "49687       49688        73             11  personal care    facial care"
            ]
          },
          "metadata": {
            "tags": []
          },
          "execution_count": 58
        }
      ]
    },
    {
      "cell_type": "code",
      "metadata": {
        "id": "mdSdIDdbfR7R",
        "colab_type": "code",
        "outputId": "9150a255-f446-4480-9e30-6ee1ef1512b8",
        "colab": {
          "base_uri": "https://localhost:8080/",
          "height": 142
        }
      },
      "source": [
        "goods.drop(['department_id'], axis = 1, inplace = True)\n",
        "goods.drop(['aisle_id'], axis = 1, inplace = True)\n",
        "goods.tail(3)"
      ],
      "execution_count": 0,
      "outputs": [
        {
          "output_type": "execute_result",
          "data": {
            "text/html": [
              "<div>\n",
              "<style scoped>\n",
              "    .dataframe tbody tr th:only-of-type {\n",
              "        vertical-align: middle;\n",
              "    }\n",
              "\n",
              "    .dataframe tbody tr th {\n",
              "        vertical-align: top;\n",
              "    }\n",
              "\n",
              "    .dataframe thead th {\n",
              "        text-align: right;\n",
              "    }\n",
              "</style>\n",
              "<table border=\"1\" class=\"dataframe\">\n",
              "  <thead>\n",
              "    <tr style=\"text-align: right;\">\n",
              "      <th></th>\n",
              "      <th>product_id</th>\n",
              "      <th>department</th>\n",
              "      <th>aisle</th>\n",
              "    </tr>\n",
              "  </thead>\n",
              "  <tbody>\n",
              "    <tr>\n",
              "      <th>49685</th>\n",
              "      <td>49686</td>\n",
              "      <td>bakery</td>\n",
              "      <td>bread</td>\n",
              "    </tr>\n",
              "    <tr>\n",
              "      <th>49686</th>\n",
              "      <td>49687</td>\n",
              "      <td>pets</td>\n",
              "      <td>cat food care</td>\n",
              "    </tr>\n",
              "    <tr>\n",
              "      <th>49687</th>\n",
              "      <td>49688</td>\n",
              "      <td>personal care</td>\n",
              "      <td>facial care</td>\n",
              "    </tr>\n",
              "  </tbody>\n",
              "</table>\n",
              "</div>"
            ],
            "text/plain": [
              "       product_id     department          aisle\n",
              "49685       49686         bakery          bread\n",
              "49686       49687           pets  cat food care\n",
              "49687       49688  personal care    facial care"
            ]
          },
          "metadata": {
            "tags": []
          },
          "execution_count": 59
        }
      ]
    },
    {
      "cell_type": "markdown",
      "metadata": {
        "id": "Hq8Bfv4ffR7V",
        "colab_type": "text"
      },
      "source": [
        "#### (2) Product data (5)"
      ]
    },
    {
      "cell_type": "markdown",
      "metadata": {
        "id": "Od_5aMYbfR7X",
        "colab_type": "text"
      },
      "source": [
        "\n",
        "1.Average of cart order (assuming the first to pick up, the more likely you are to repurchase)\n",
        "2.Total order count (assuming the more orders, the higher the chance of repurchase)\n",
        "3.Chance to Repurchase (Use Conditional Probability. (Second Order / First Order))\n",
        "4.Average number of reorders (assuming the more reorders, the higher the chance of repurchase)\n",
        "5.Repurchase rate of all orders"
      ]
    },
    {
      "cell_type": "code",
      "metadata": {
        "id": "WK011PIofR7Y",
        "colab_type": "code",
        "colab": {}
      },
      "source": [
        "ord_prd_tr = ord_prd_tr.merge(orders[['user_id','order_id']], left_on = 'order_id', right_on = 'order_id', how = 'inner')"
      ],
      "execution_count": 0,
      "outputs": []
    },
    {
      "cell_type": "code",
      "metadata": {
        "id": "bImjJhfZfR7b",
        "colab_type": "code",
        "colab": {}
      },
      "source": [
        "orders_products_pr = orders.merge(ord_prd_pr, how = 'inner', on = 'order_id')"
      ],
      "execution_count": 0,
      "outputs": []
    },
    {
      "cell_type": "code",
      "metadata": {
        "id": "QaEqKYT8fR7f",
        "colab_type": "code",
        "colab": {}
      },
      "source": [
        "# sorting orders and products to get the rank or the reorder times for the product\n",
        "prdss = orders_products_pr.sort_values(['user_id', 'order_number', 'product_id'], ascending=True)"
      ],
      "execution_count": 0,
      "outputs": []
    },
    {
      "cell_type": "code",
      "metadata": {
        "id": "jY_X6DH9fR7j",
        "colab_type": "code",
        "colab": {}
      },
      "source": [
        "prdot = orders_products_pr.sort_values(['user_id', 'order_number', 'product_id'], ascending=True)"
      ],
      "execution_count": 0,
      "outputs": []
    },
    {
      "cell_type": "code",
      "metadata": {
        "id": "56pVk0GgfR7n",
        "colab_type": "code",
        "outputId": "0ca55a13-e606-4f93-d66c-23661df1bf5a",
        "colab": {
          "base_uri": "https://localhost:8080/",
          "height": 34
        }
      },
      "source": [
        "prdot.shape"
      ],
      "execution_count": 0,
      "outputs": [
        {
          "output_type": "execute_result",
          "data": {
            "text/plain": [
              "(299786, 10)"
            ]
          },
          "metadata": {
            "tags": []
          },
          "execution_count": 64
        }
      ]
    },
    {
      "cell_type": "code",
      "metadata": {
        "id": "xflwaYpBfR7r",
        "colab_type": "code",
        "colab": {}
      },
      "source": [
        "# product time \n",
        "prdss = prdss.assign(product_time = prdss.groupby(['user_id', 'product_id']).cumcount()+1)"
      ],
      "execution_count": 0,
      "outputs": []
    },
    {
      "cell_type": "code",
      "metadata": {
        "id": "n9uNLCR-fR7u",
        "colab_type": "code",
        "colab": {}
      },
      "source": [
        "# prod_average_cart_position: \n",
        "sub = prdss.groupby(['product_id'])['add_to_cart_order'].mean().to_frame('prod_average_cart_position')"
      ],
      "execution_count": 0,
      "outputs": []
    },
    {
      "cell_type": "code",
      "metadata": {
        "id": "Q1v5VqGtfR71",
        "colab_type": "code",
        "colab": {}
      },
      "source": [
        "# getting products ordered first and second times \n",
        "# sub1: Number of first purchases per product \n",
        "# sub2: Second purchase per product\n",
        "sub1 = prdss[prdss['product_time'] == 1].groupby('product_id').size().to_frame('prod_first_orders')\n",
        "sub2 = prdss[prdss['product_time'] == 2].groupby('product_id').size().to_frame('prod_second_orders')"
      ],
      "execution_count": 0,
      "outputs": []
    },
    {
      "cell_type": "code",
      "metadata": {
        "id": "YRt2KBg4fR7-",
        "colab_type": "code",
        "colab": {}
      },
      "source": [
        "# sub1 prod_orders \n",
        "sub1['prod_orders'] = prdss.groupby('product_id')['product_id'].size()"
      ],
      "execution_count": 0,
      "outputs": []
    },
    {
      "cell_type": "code",
      "metadata": {
        "id": "wU9JkrmzfR8E",
        "colab_type": "code",
        "colab": {}
      },
      "source": [
        "# sub1 prod_reorders \n",
        "# prod_orders (total number of purchases per product) = prod_first_orders (first number of orders per product) + prod_reorders (repurchases per product)\n",
        "sub1['prod_reorders'] = prdss.groupby('product_id')['reordered'].sum()"
      ],
      "execution_count": 0,
      "outputs": []
    },
    {
      "cell_type": "code",
      "metadata": {
        "id": "BRgRUYeifR8J",
        "colab_type": "code",
        "colab": {}
      },
      "source": [
        "# sub1 and sub2 Merge\n",
        "sub2 = sub2.reset_index().merge(sub1.reset_index())"
      ],
      "execution_count": 0,
      "outputs": []
    },
    {
      "cell_type": "code",
      "metadata": {
        "id": "DGZzV8AUfR8L",
        "colab_type": "code",
        "outputId": "8e02c148-1a56-4791-f949-9da03c073c14",
        "colab": {
          "base_uri": "https://localhost:8080/",
          "height": 34
        }
      },
      "source": [
        "print('sub2 {}: {}'.format(sub2.shape, ', '.join(sub2.columns)))"
      ],
      "execution_count": 0,
      "outputs": [
        {
          "output_type": "stream",
          "text": [
            "sub2 (5758, 5): product_id, prod_second_orders, prod_first_orders, prod_orders, prod_reorders\n"
          ],
          "name": "stdout"
        }
      ]
    },
    {
      "cell_type": "code",
      "metadata": {
        "id": "2FHqORy3fR8P",
        "colab_type": "code",
        "colab": {}
      },
      "source": [
        "# calculating reorder probability and ratio for the product\n",
        "# 'prod_reorder_probability' : Probability of repurchase by product (= second purchase per product / first purchase per product)\n",
        "sub2['prod_reorder_probability'] = sub2['prod_second_orders']/sub2['prod_first_orders']"
      ],
      "execution_count": 0,
      "outputs": []
    },
    {
      "cell_type": "code",
      "metadata": {
        "id": "OCvcvwzhfR8S",
        "colab_type": "code",
        "colab": {}
      },
      "source": [
        "# 'prod_reorder_times' Average number of product reorders: 1 + (number of repurchases per product / first purchase per product)\n",
        "sub2['prod_reorder_times'] = 1 + sub2['prod_reorders']/sub2['prod_first_orders']"
      ],
      "execution_count": 0,
      "outputs": []
    },
    {
      "cell_type": "code",
      "metadata": {
        "id": "OskZYe7vfR8V",
        "colab_type": "code",
        "colab": {}
      },
      "source": [
        "# 'prod_reorder_ratio' repurchase rate = repurchases / total orders\n",
        "sub2['prod_reorder_ratio'] = sub2['prod_reorders']/sub2['prod_orders']"
      ],
      "execution_count": 0,
      "outputs": []
    },
    {
      "cell_type": "code",
      "metadata": {
        "id": "afaI1uJgfR8Y",
        "colab_type": "code",
        "colab": {}
      },
      "source": [
        "prd = sub2[['product_id', 'prod_orders','prod_reorder_probability', 'prod_reorder_times', 'prod_reorder_ratio']]"
      ],
      "execution_count": 0,
      "outputs": []
    },
    {
      "cell_type": "code",
      "metadata": {
        "id": "T4VJEXkOfR8b",
        "colab_type": "code",
        "outputId": "fa531a1b-0e86-4ce9-8bec-a2b3a4c6d770",
        "colab": {
          "base_uri": "https://localhost:8080/",
          "height": 34
        }
      },
      "source": [
        "# Memory cleaning \n",
        "del sub1, sub2\n",
        "gc.collect()"
      ],
      "execution_count": 0,
      "outputs": [
        {
          "output_type": "execute_result",
          "data": {
            "text/plain": [
              "2320"
            ]
          },
          "metadata": {
            "tags": []
          },
          "execution_count": 76
        }
      ]
    },
    {
      "cell_type": "markdown",
      "metadata": {
        "id": "RZFHkg3zfR8f",
        "colab_type": "text"
      },
      "source": [
        "#### (3) User Data (7)"
      ]
    },
    {
      "cell_type": "markdown",
      "metadata": {
        "id": "JmgP_BsNfR8g",
        "colab_type": "text"
      },
      "source": [
        "\n",
        "(Characteristic of user)\n",
        "\n",
        "Total Order Count (how many orders)\n",
        "The total of the period until the next order (how often do you order)\n",
        "Average time to next order (how often do you order faster)\n",
        "Total Ordered Products (how many orders)\n",
        "Repurchase Rate (how much to reorder a particular product)\n",
        "Type of product ordered (index) (how many different orders)\n",
        "Average number of products per order (how many orders at a time)"
      ]
    },
    {
      "cell_type": "code",
      "metadata": {
        "id": "ewfxvFavfR8h",
        "colab_type": "code",
        "colab": {}
      },
      "source": [
        "# create user_orders-number of orders per user\n",
        "users = orders[orders['eval_set'] == 'prior'].groupby(['user_id'])['order_number'].max().to_frame('user_orders')"
      ],
      "execution_count": 0,
      "outputs": []
    },
    {
      "cell_type": "code",
      "metadata": {
        "id": "Y4NKne-OfR8l",
        "colab_type": "code",
        "outputId": "3f9ae0c6-0572-4e30-b25f-7d605d7deb26",
        "colab": {
          "base_uri": "https://localhost:8080/",
          "height": 34
        }
      },
      "source": [
        "print('users {}: {}'.format(users.shape, ', '.join(users.columns)))"
      ],
      "execution_count": 0,
      "outputs": [
        {
          "output_type": "stream",
          "text": [
            "users (63100, 1): user_orders\n"
          ],
          "name": "stdout"
        }
      ]
    },
    {
      "cell_type": "code",
      "metadata": {
        "id": "dj4N2F3TfR8p",
        "colab_type": "code",
        "colab": {}
      },
      "source": [
        "# create user_period-total order date since previous order\n",
        "users['user_period'] = orders[orders['eval_set'] == 'prior'].groupby(['user_id'])['days_since_prior_order'].sum()"
      ],
      "execution_count": 0,
      "outputs": []
    },
    {
      "cell_type": "code",
      "metadata": {
        "id": "iojLWvU5fR8s",
        "colab_type": "code",
        "colab": {}
      },
      "source": [
        "# create user_mean_days_since_prior-Average order days\n",
        "users['user_mean_days_since_prior'] = orders[orders['eval_set'] == 'prior'].groupby(['user_id'])['days_since_prior_order'].mean()"
      ],
      "execution_count": 0,
      "outputs": []
    },
    {
      "cell_type": "code",
      "metadata": {
        "id": "XyPNOT3EfR8v",
        "colab_type": "code",
        "colab": {}
      },
      "source": [
        "# merging features about users and orders into one dataset\n",
        "# create user_total_products-the number of products ordered by user id\n",
        "us = orders_products_pr.groupby('user_id').size().to_frame('user_total_products')"
      ],
      "execution_count": 0,
      "outputs": []
    },
    {
      "cell_type": "code",
      "metadata": {
        "id": "W6TcnA5VfR8x",
        "colab_type": "code",
        "colab": {}
      },
      "source": [
        "\n",
        "# eq_1-number of products reordered\n",
        "us['eq_1'] = orders_products_pr[orders_products_pr['reordered'] == 1].groupby('user_id')['product_id'].size()"
      ],
      "execution_count": 0,
      "outputs": []
    },
    {
      "cell_type": "code",
      "metadata": {
        "id": "qUGThI4xfR82",
        "colab_type": "code",
        "colab": {}
      },
      "source": [
        "\n",
        "# qt_1-the number of products of the order except the first order by user\n",
        "us ['gt_1'] = orders_products_pr [orders_products_pr ['order_number']> 1] .groupby ('user_id') ['product_id']. size ()"
      ],
      "execution_count": 0,
      "outputs": []
    },
    {
      "cell_type": "code",
      "metadata": {
        "id": "RlLXuMDufR85",
        "colab_type": "code",
        "colab": {}
      },
      "source": [
        "\n",
        "# user_reorder_ratio: Repurchase rate by user (= number of products reordered / number of products in the order except first order)\n",
        "us['user_reorder_ratio'] = us['eq_1'] / us['gt_1']"
      ],
      "execution_count": 0,
      "outputs": []
    },
    {
      "cell_type": "code",
      "metadata": {
        "id": "5Ct3myTTfR89",
        "colab_type": "code",
        "colab": {}
      },
      "source": [
        "us.drop(['eq_1', 'gt_1'], axis = 1, inplace = True)"
      ],
      "execution_count": 0,
      "outputs": []
    },
    {
      "cell_type": "code",
      "metadata": {
        "id": "MY84DuTsfR9E",
        "colab_type": "code",
        "colab": {}
      },
      "source": [
        "# user_distinct_products: Number of product types ordered by user\n",
        "us['user_distinct_products'] = orders_products_pr.groupby(['user_id'])['product_id'].nunique()"
      ],
      "execution_count": 0,
      "outputs": []
    },
    {
      "cell_type": "code",
      "metadata": {
        "id": "r2i9ymdWfR9I",
        "colab_type": "code",
        "colab": {}
      },
      "source": [
        "# users and us combined\n",
        "users = users.reset_index().merge(us.reset_index())"
      ],
      "execution_count": 0,
      "outputs": []
    },
    {
      "cell_type": "code",
      "metadata": {
        "id": "oyIPMr93fR9K",
        "colab_type": "code",
        "colab": {}
      },
      "source": [
        "# user_average_basket : Average number of products per order per user\n",
        "users['user_average_basket'] = users['user_total_products'] / users['user_orders']"
      ],
      "execution_count": 0,
      "outputs": []
    },
    {
      "cell_type": "code",
      "metadata": {
        "id": "6PT777DJfR9O",
        "colab_type": "code",
        "colab": {}
      },
      "source": [
        "\n",
        "# test, train order only ..\n",
        "us2 = orders[orders['eval_set'] != 'prior'] "
      ],
      "execution_count": 0,
      "outputs": []
    },
    {
      "cell_type": "code",
      "metadata": {
        "id": "j8xFs8d_fR9T",
        "colab_type": "code",
        "colab": {}
      },
      "source": [
        "us2 = us2[['user_id', 'order_id', 'eval_set', 'days_since_prior_order']]"
      ],
      "execution_count": 0,
      "outputs": []
    },
    {
      "cell_type": "code",
      "metadata": {
        "id": "kbqnl5exfR9X",
        "colab_type": "code",
        "colab": {}
      },
      "source": [
        "users = users.merge(us2)"
      ],
      "execution_count": 0,
      "outputs": []
    },
    {
      "cell_type": "code",
      "metadata": {
        "id": "koh4_wyBfR9e",
        "colab_type": "code",
        "outputId": "ecad372a-9888-420d-b7d9-d7ec5fbda9cb",
        "colab": {
          "base_uri": "https://localhost:8080/",
          "height": 54
        }
      },
      "source": [
        "print('users {}: {}'.format(users.shape, ', '.join(users.columns)))"
      ],
      "execution_count": 0,
      "outputs": [
        {
          "output_type": "stream",
          "text": [
            "users (20189, 11): user_id, user_orders, user_period, user_mean_days_since_prior, user_total_products, user_reorder_ratio, user_distinct_products, user_average_basket, order_id, eval_set, days_since_prior_order\n"
          ],
          "name": "stdout"
        }
      ]
    },
    {
      "cell_type": "markdown",
      "metadata": {
        "id": "4NGbg9Q5fR9m",
        "colab_type": "text"
      },
      "source": [
        "\n",
        "(4) Order data (related with User & Product data) (7)\n",
        "(Project goal: to find out whether the test user repurchases the last ordered product-> user and product complex feature required)\n",
        "\n",
        "Total number of orders for a specific product by user\n",
        "Order number of first order of a specific product by user\n",
        "Last order order for a specific product by user\n",
        "Average number of products in a shopping cart by user\n",
        "The rate at which a particular user ordered a specific product (orders per user / product / total orders per user)\n",
        "The number of orders for which a user has not had that product since the last time they ordered a particular product (the lower the value, the more recent purchase)\n",
        "Order rate by user / product since first order"
      ]
    },
    {
      "cell_type": "markdown",
      "metadata": {
        "id": "uZs_u2t2fR9p",
        "colab_type": "text"
      },
      "source": [
        "(From a given dataset) 1. Period from order to reorder"
      ]
    },
    {
      "cell_type": "code",
      "metadata": {
        "id": "W25ew_vUfR9q",
        "colab_type": "code",
        "colab": {}
      },
      "source": [
        "# up_orders: Orders per user, product\n",
        "data = orders_products_pr.groupby(['user_id', 'product_id']).size().to_frame('up_orders')"
      ],
      "execution_count": 0,
      "outputs": []
    },
    {
      "cell_type": "code",
      "metadata": {
        "id": "Zo5z2FWzfR9u",
        "colab_type": "code",
        "colab": {}
      },
      "source": [
        "\n",
        "# up_first_order: Order order that originally placed the product\n",
        "data['up_first_order'] = orders_products_pr.groupby(['user_id', 'product_id'])['order_number'].min()"
      ],
      "execution_count": 0,
      "outputs": []
    },
    {
      "cell_type": "code",
      "metadata": {
        "id": "sgO8LWL7fR9x",
        "colab_type": "code",
        "colab": {}
      },
      "source": [
        "# up_last_order: Order order that originally placed the product\n",
        "data['up_last_order'] = orders_products_pr.groupby(['user_id', 'product_id'])['order_number'].max()"
      ],
      "execution_count": 0,
      "outputs": []
    },
    {
      "cell_type": "code",
      "metadata": {
        "id": "cDC8N0OffR92",
        "colab_type": "code",
        "colab": {}
      },
      "source": [
        "\n",
        "# avg_cart_position: Average of the carted order by product # up_orders: Orders per user, product\n",
        "data['up_average_cart_position'] = orders_products_pr.groupby(['user_id', 'product_id'])['add_to_cart_order'].mean()\n",
        "data = data.reset_index()"
      ],
      "execution_count": 0,
      "outputs": []
    },
    {
      "cell_type": "code",
      "metadata": {
        "id": "4EjrMNOBfR96",
        "colab_type": "code",
        "colab": {}
      },
      "source": [
        "# combined with user, product data\n",
        "data = data.merge(prd, on = 'product_id')\n",
        "data = data.merge(users, on = 'user_id')"
      ],
      "execution_count": 0,
      "outputs": []
    },
    {
      "cell_type": "code",
      "metadata": {
        "id": "4mqqD0wXfR98",
        "colab_type": "code",
        "outputId": "fc975e6b-9920-434c-cc40-66d55bc2efa4",
        "colab": {
          "base_uri": "https://localhost:8080/",
          "height": 54
        }
      },
      "source": [
        "print('data {}: {}'.format(data.shape, ', '.join(data.columns)))"
      ],
      "execution_count": 0,
      "outputs": [
        {
          "output_type": "stream",
          "text": [
            "data (209046, 20): user_id, product_id, up_orders, up_first_order, up_last_order, up_average_cart_position, prod_orders, prod_reorder_probability, prod_reorder_times, prod_reorder_ratio, user_orders, user_period, user_mean_days_since_prior, user_total_products, user_reorder_ratio, user_distinct_products, user_average_basket, order_id, eval_set, days_since_prior_order\n"
          ],
          "name": "stdout"
        }
      ]
    },
    {
      "cell_type": "code",
      "metadata": {
        "id": "CrDqFZRvfR99",
        "colab_type": "code",
        "colab": {}
      },
      "source": [
        "\n",
        "# up_order_rate Order Rate by User / Product: Order Count by User / Product / Total Order by User\n",
        "data['up_order_rate'] = data['up_orders'] / data['user_orders']"
      ],
      "execution_count": 0,
      "outputs": []
    },
    {
      "cell_type": "code",
      "metadata": {
        "id": "lI9P2Q4xfR9_",
        "colab_type": "code",
        "colab": {}
      },
      "source": [
        "# up_orders_since_last_order Number of user orders since last order by product: Total orders by user-Final orders by user / product\n",
        "data['up_orders_since_last_order'] = data['user_orders'] - data['up_last_order']"
      ],
      "execution_count": 0,
      "outputs": []
    },
    {
      "cell_type": "code",
      "metadata": {
        "id": "haCyiojRfR-A",
        "colab_type": "code",
        "colab": {}
      },
      "source": [
        "# up_order_rate_since_first_order \n",
        "# Order rate by user / product after first order: Order by user / product / (Total order by user-Initial order by user / product + 1)\n",
        "data['up_order_rate_since_first_order'] = data['up_orders'] / (data['user_orders'] - data['up_first_order'] + 1)"
      ],
      "execution_count": 0,
      "outputs": []
    },
    {
      "cell_type": "code",
      "metadata": {
        "id": "FBskWiQkfR-D",
        "colab_type": "code",
        "colab": {}
      },
      "source": [
        "\n",
        "# reordered add\n",
        "data = data.merge(ord_prd_tr[['user_id', 'product_id', 'reordered']], how = 'left', on = ['user_id', 'product_id'])"
      ],
      "execution_count": 0,
      "outputs": []
    },
    {
      "cell_type": "code",
      "metadata": {
        "scrolled": true,
        "id": "XPZhP1MSfR-H",
        "colab_type": "code",
        "outputId": "4bf90544-25f2-4bb2-d157-a3fee800f30e",
        "colab": {
          "base_uri": "https://localhost:8080/",
          "height": 162
        }
      },
      "source": [
        "data.tail(3)"
      ],
      "execution_count": 0,
      "outputs": [
        {
          "output_type": "execute_result",
          "data": {
            "text/html": [
              "<div>\n",
              "<style scoped>\n",
              "    .dataframe tbody tr th:only-of-type {\n",
              "        vertical-align: middle;\n",
              "    }\n",
              "\n",
              "    .dataframe tbody tr th {\n",
              "        vertical-align: top;\n",
              "    }\n",
              "\n",
              "    .dataframe thead th {\n",
              "        text-align: right;\n",
              "    }\n",
              "</style>\n",
              "<table border=\"1\" class=\"dataframe\">\n",
              "  <thead>\n",
              "    <tr style=\"text-align: right;\">\n",
              "      <th></th>\n",
              "      <th>user_id</th>\n",
              "      <th>product_id</th>\n",
              "      <th>up_orders</th>\n",
              "      <th>up_first_order</th>\n",
              "      <th>up_last_order</th>\n",
              "      <th>up_average_cart_position</th>\n",
              "      <th>prod_orders</th>\n",
              "      <th>prod_reorder_probability</th>\n",
              "      <th>prod_reorder_times</th>\n",
              "      <th>prod_reorder_ratio</th>\n",
              "      <th>user_orders</th>\n",
              "      <th>user_period</th>\n",
              "      <th>user_mean_days_since_prior</th>\n",
              "      <th>user_total_products</th>\n",
              "      <th>user_reorder_ratio</th>\n",
              "      <th>user_distinct_products</th>\n",
              "      <th>user_average_basket</th>\n",
              "      <th>order_id</th>\n",
              "      <th>eval_set</th>\n",
              "      <th>days_since_prior_order</th>\n",
              "      <th>up_order_rate</th>\n",
              "      <th>up_orders_since_last_order</th>\n",
              "      <th>up_order_rate_since_first_order</th>\n",
              "      <th>reordered</th>\n",
              "    </tr>\n",
              "  </thead>\n",
              "  <tbody>\n",
              "    <tr>\n",
              "      <th>209043</th>\n",
              "      <td>46120</td>\n",
              "      <td>16939.0</td>\n",
              "      <td>1</td>\n",
              "      <td>8</td>\n",
              "      <td>8</td>\n",
              "      <td>4.0</td>\n",
              "      <td>7</td>\n",
              "      <td>0.200000</td>\n",
              "      <td>1.600000</td>\n",
              "      <td>0.428571</td>\n",
              "      <td>13</td>\n",
              "      <td>235.0</td>\n",
              "      <td>19.583334</td>\n",
              "      <td>4</td>\n",
              "      <td>NaN</td>\n",
              "      <td>4</td>\n",
              "      <td>0.307692</td>\n",
              "      <td>477627</td>\n",
              "      <td>train</td>\n",
              "      <td>18.0</td>\n",
              "      <td>0.076923</td>\n",
              "      <td>5</td>\n",
              "      <td>0.166667</td>\n",
              "      <td>NaN</td>\n",
              "    </tr>\n",
              "    <tr>\n",
              "      <th>209044</th>\n",
              "      <td>58115</td>\n",
              "      <td>48175.0</td>\n",
              "      <td>1</td>\n",
              "      <td>2</td>\n",
              "      <td>2</td>\n",
              "      <td>1.0</td>\n",
              "      <td>4</td>\n",
              "      <td>0.333333</td>\n",
              "      <td>2.000000</td>\n",
              "      <td>0.750000</td>\n",
              "      <td>4</td>\n",
              "      <td>50.0</td>\n",
              "      <td>16.666666</td>\n",
              "      <td>1</td>\n",
              "      <td>1.0</td>\n",
              "      <td>1</td>\n",
              "      <td>0.250000</td>\n",
              "      <td>3212843</td>\n",
              "      <td>test</td>\n",
              "      <td>17.0</td>\n",
              "      <td>0.250000</td>\n",
              "      <td>2</td>\n",
              "      <td>0.333333</td>\n",
              "      <td>NaN</td>\n",
              "    </tr>\n",
              "    <tr>\n",
              "      <th>209045</th>\n",
              "      <td>51816</td>\n",
              "      <td>26924.0</td>\n",
              "      <td>1</td>\n",
              "      <td>6</td>\n",
              "      <td>6</td>\n",
              "      <td>1.0</td>\n",
              "      <td>5</td>\n",
              "      <td>0.333333</td>\n",
              "      <td>2.666667</td>\n",
              "      <td>1.000000</td>\n",
              "      <td>8</td>\n",
              "      <td>97.0</td>\n",
              "      <td>13.857142</td>\n",
              "      <td>2</td>\n",
              "      <td>1.0</td>\n",
              "      <td>2</td>\n",
              "      <td>0.250000</td>\n",
              "      <td>1449088</td>\n",
              "      <td>test</td>\n",
              "      <td>0.0</td>\n",
              "      <td>0.125000</td>\n",
              "      <td>2</td>\n",
              "      <td>0.333333</td>\n",
              "      <td>NaN</td>\n",
              "    </tr>\n",
              "  </tbody>\n",
              "</table>\n",
              "</div>"
            ],
            "text/plain": [
              "        user_id  product_id  ...  up_order_rate_since_first_order  reordered\n",
              "209043    46120     16939.0  ...                         0.166667        NaN\n",
              "209044    58115     48175.0  ...                         0.333333        NaN\n",
              "209045    51816     26924.0  ...                         0.333333        NaN\n",
              "\n",
              "[3 rows x 24 columns]"
            ]
          },
          "metadata": {
            "tags": []
          },
          "execution_count": 103
        }
      ]
    },
    {
      "cell_type": "markdown",
      "metadata": {
        "id": "--LeWUO7fR-K",
        "colab_type": "text"
      },
      "source": [
        "#### train, test dataset "
      ]
    },
    {
      "cell_type": "code",
      "metadata": {
        "id": "JJmjYNRZfR-L",
        "colab_type": "code",
        "colab": {}
      },
      "source": [
        "# create a train set\n",
        "train = data[data['eval_set'] == 'train']"
      ],
      "execution_count": 0,
      "outputs": []
    },
    {
      "cell_type": "code",
      "metadata": {
        "scrolled": true,
        "id": "k3ZZi0jcfR-N",
        "colab_type": "code",
        "outputId": "bf0d670e-477c-4a06-ff40-460f97d19411",
        "colab": {
          "base_uri": "https://localhost:8080/",
          "height": 187
        }
      },
      "source": [
        "train ['reordered']. fillna (0, inplace = True) # replace with NaN 0\n",
        "train.drop(['eval_set', 'user_id', 'product_id', 'order_id'], axis = 1, inplace = True) # Excluding features other than training feature"
      ],
      "execution_count": 0,
      "outputs": [
        {
          "output_type": "stream",
          "text": [
            "/usr/local/lib/python3.6/dist-packages/pandas/core/generic.py:6130: SettingWithCopyWarning: \n",
            "A value is trying to be set on a copy of a slice from a DataFrame\n",
            "\n",
            "See the caveats in the documentation: http://pandas.pydata.org/pandas-docs/stable/indexing.html#indexing-view-versus-copy\n",
            "  self._update_inplace(new_data)\n",
            "/usr/local/lib/python3.6/dist-packages/pandas/core/frame.py:3940: SettingWithCopyWarning: \n",
            "A value is trying to be set on a copy of a slice from a DataFrame\n",
            "\n",
            "See the caveats in the documentation: http://pandas.pydata.org/pandas-docs/stable/indexing.html#indexing-view-versus-copy\n",
            "  errors=errors)\n"
          ],
          "name": "stderr"
        }
      ]
    },
    {
      "cell_type": "code",
      "metadata": {
        "scrolled": true,
        "id": "UXs-NLkDfR-P",
        "colab_type": "code",
        "outputId": "7680b90e-b92a-4a41-cec5-0e4a8604feee",
        "colab": {
          "base_uri": "https://localhost:8080/",
          "height": 34
        }
      },
      "source": [
        "train.shape"
      ],
      "execution_count": 0,
      "outputs": [
        {
          "output_type": "execute_result",
          "data": {
            "text/plain": [
              "(133030, 20)"
            ]
          },
          "metadata": {
            "tags": []
          },
          "execution_count": 106
        }
      ]
    },
    {
      "cell_type": "code",
      "metadata": {
        "id": "WfUJKTfKfR-R",
        "colab_type": "code",
        "outputId": "3fe482e9-4fe2-482a-ae1d-dfa758fd3ce1",
        "colab": {
          "base_uri": "https://localhost:8080/",
          "height": 153
        }
      },
      "source": [
        "train.columns"
      ],
      "execution_count": 0,
      "outputs": [
        {
          "output_type": "execute_result",
          "data": {
            "text/plain": [
              "Index(['up_orders', 'up_first_order', 'up_last_order',\n",
              "       'up_average_cart_position', 'prod_orders', 'prod_reorder_probability',\n",
              "       'prod_reorder_times', 'prod_reorder_ratio', 'user_orders',\n",
              "       'user_period', 'user_mean_days_since_prior', 'user_total_products',\n",
              "       'user_reorder_ratio', 'user_distinct_products', 'user_average_basket',\n",
              "       'days_since_prior_order', 'up_order_rate', 'up_orders_since_last_order',\n",
              "       'up_order_rate_since_first_order', 'reordered'],\n",
              "      dtype='object')"
            ]
          },
          "metadata": {
            "tags": []
          },
          "execution_count": 107
        }
      ]
    },
    {
      "cell_type": "code",
      "metadata": {
        "id": "qSWN5K3ofR-U",
        "colab_type": "code",
        "outputId": "4d5be100-7af7-4ed5-f1ab-39ca498f7db5",
        "colab": {
          "base_uri": "https://localhost:8080/",
          "height": 187
        }
      },
      "source": [
        "# filter by eval_set = test, replace Nan with zeros (not reordered) \n",
        "test = data[data['eval_set'] == 'test']\n",
        "test['reordered'].fillna(0, inplace=True)\n",
        "test.drop(['eval_set', 'user_id'], axis = 1, inplace = True)"
      ],
      "execution_count": 0,
      "outputs": [
        {
          "output_type": "stream",
          "text": [
            "/usr/local/lib/python3.6/dist-packages/pandas/core/generic.py:6130: SettingWithCopyWarning: \n",
            "A value is trying to be set on a copy of a slice from a DataFrame\n",
            "\n",
            "See the caveats in the documentation: http://pandas.pydata.org/pandas-docs/stable/indexing.html#indexing-view-versus-copy\n",
            "  self._update_inplace(new_data)\n",
            "/usr/local/lib/python3.6/dist-packages/pandas/core/frame.py:3940: SettingWithCopyWarning: \n",
            "A value is trying to be set on a copy of a slice from a DataFrame\n",
            "\n",
            "See the caveats in the documentation: http://pandas.pydata.org/pandas-docs/stable/indexing.html#indexing-view-versus-copy\n",
            "  errors=errors)\n"
          ],
          "name": "stderr"
        }
      ]
    },
    {
      "cell_type": "code",
      "metadata": {
        "scrolled": true,
        "id": "g0vQQZ0nfR-W",
        "colab_type": "code",
        "outputId": "fa1e5b81-00c7-4440-8482-6b6d2b368f93",
        "colab": {
          "base_uri": "https://localhost:8080/",
          "height": 34
        }
      },
      "source": [
        "test.shape"
      ],
      "execution_count": 0,
      "outputs": [
        {
          "output_type": "execute_result",
          "data": {
            "text/plain": [
              "(76016, 22)"
            ]
          },
          "metadata": {
            "tags": []
          },
          "execution_count": 109
        }
      ]
    },
    {
      "cell_type": "code",
      "metadata": {
        "id": "zaV7gsfpfR-Z",
        "colab_type": "code",
        "colab": {}
      },
      "source": [
        "# Saving train and test sets to files for easier loading to model, without having to re-prepare the data.\n",
        "train.to_csv('my_train3.csv', header = True, index = False)\n",
        "test.to_csv('my_test3.csv', header = True, index = False)"
      ],
      "execution_count": 0,
      "outputs": []
    },
    {
      "cell_type": "markdown",
      "metadata": {
        "id": "m0k7bVR4fR-c",
        "colab_type": "text"
      },
      "source": [
        "### 3. Model Selection & Evaluation & Prediction"
      ]
    },
    {
      "cell_type": "code",
      "metadata": {
        "id": "lmLGYObBfR-d",
        "colab_type": "code",
        "colab": {}
      },
      "source": [
        "# loading files\n",
        "train = pd.read_csv('my_train3.csv')\n",
        "test = pd.read_csv('my_test3.csv')"
      ],
      "execution_count": 0,
      "outputs": []
    },
    {
      "cell_type": "code",
      "metadata": {
        "id": "qSIGZVUBfR-e",
        "colab_type": "code",
        "colab": {}
      },
      "source": [
        "# Splitting the training set to train and validation set. Validation set \n",
        "from sklearn.model_selection import train_test_split\n",
        "X_train, X_eval, y_train, y_eval = train_test_split(train[train.columns.difference(['reordered'])], train['reordered'], test_size=0.33, random_state=7)"
      ],
      "execution_count": 0,
      "outputs": []
    },
    {
      "cell_type": "markdown",
      "metadata": {
        "id": "VUUA1nVffR-h",
        "colab_type": "text"
      },
      "source": [
        "* XGBoost do not require preprocessing (null value processing, scaling, etc.), so the model is returned immediately."
      ]
    },
    {
      "cell_type": "code",
      "metadata": {
        "scrolled": true,
        "id": "UgSEEaqFfR-h",
        "colab_type": "code",
        "colab": {}
      },
      "source": [
        "\n",
        "from sklearn.model_selection import GridSearchCV"
      ],
      "execution_count": 0,
      "outputs": []
    },
    {
      "cell_type": "code",
      "metadata": {
        "id": "SydwpbQ2fR-k",
        "colab_type": "code",
        "colab": {}
      },
      "source": [
        "import xgboost as xgb\n",
        "from xgboost.sklearn import XGBClassifier\n",
        "from sklearn.model_selection import cross_validate\n",
        "from sklearn.model_selection import GridSearchCV\n",
        "import graphviz"
      ],
      "execution_count": 0,
      "outputs": []
    },
    {
      "cell_type": "code",
      "metadata": {
        "id": "fZky9cDTfR-l",
        "colab_type": "code",
        "outputId": "f1a6dc32-4d10-4d0e-88ec-ffab816dfd3a",
        "colab": {
          "base_uri": "https://localhost:8080/",
          "height": 51
        }
      },
      "source": [
        "xgb_train = xgb.DMatrix(X_train, label=y_train)\n",
        "xgb_eval = xgb.DMatrix(X_eval, y_eval) \n",
        "# parameter link : https://www.analyticsvidhya.com/blog/2016/03/complete-guide-parameter-tuning-xgboost-with-codes-python/\n",
        "xgb_params = {\n",
        "    \"objective\"         : \"binary:logistic\" # loss function. binary:logistic (logistic regression for binary classification => predicted class) # multi:softmax (multicalss classification using the softmax objective -> predicted class , ) # multi:softprob: softmax return probability instead of class\n",
        "    #,\"num_class\"        : 2                # If you use multi: softmax, you must set num_class (number of unique classes)\n",
        "    ,\"eval_metric\"      : \"auc\"              # metric to be used for validation (type: rmse, mae, logloss, error, merror, mlogloss, auc)\n",
        "    ,\"eta\"              : 0.1                # learning rate  to GBM (typically a value between 0.01 and 0.2)\n",
        "    ,\"max_depth\"        : 6                  # maximum depth of a tree (Used to prevent overfitting. The larger the depth, the more specific the relationship is learned. Usually 3-10)\n",
        "    ,\"min_child_weight\" : 10                 # minimum sum of weights of all observations (default=1, overfitting Use to prevent, if too high underfitting concern)\n",
        "    ,\"gamma\"            : 0.70               # Minimum loss function for splitting, split only when decreasing above (default = 0)\n",
        "    ,\"subsample\"        : 0.76                # The ratio of observations to random samples for each tree. Low value prevents conservative & overfitting. Too low, underfitting concerns (typically 0.5-1)\n",
        "    ,\"colsample_bytree\" : 0.95                # The percentage of columns that will be random samples for each tree. (default 1, typically 0.5-1)\n",
        "    ,\"alpha\"            : 2e-05               # L1 regularization term on weights (Lasso Regression) (default=0)\n",
        "    ,\"lambda\"           :1                   # L2 regularization term on weights.(Ridge Regression) (default=1)\n",
        "}\n",
        "\n",
        "watchlist  = [(xgb_eval,'eval'), (xgb_train,'train')]"
      ],
      "execution_count": 0,
      "outputs": [
        {
          "output_type": "stream",
          "text": [
            "/usr/local/lib/python3.6/dist-packages/xgboost/core.py:587: FutureWarning: Series.base is deprecated and will be removed in a future version\n",
            "  if getattr(data, 'base', None) is not None and \\\n"
          ],
          "name": "stderr"
        }
      ]
    },
    {
      "cell_type": "code",
      "metadata": {
        "scrolled": true,
        "id": "4_220QA2fR-o",
        "colab_type": "code",
        "outputId": "d62d3c20-1f76-4947-adac-352e9021de07",
        "colab": {
          "base_uri": "https://localhost:8080/",
          "height": 561
        }
      },
      "source": [
        "print('training XGBoost model ...')\n",
        "xgb_model = xgb.train(params = xgb_params,\n",
        "                dtrain = xgb_train,\n",
        "                num_boost_round = 300,\n",
        "                evals = (watchlist),\n",
        "                verbose_eval=10)  # will stop the boost rounds if evaluation metricices didn't improve"
      ],
      "execution_count": 0,
      "outputs": [
        {
          "output_type": "stream",
          "text": [
            "training XGBoost model ...\n",
            "[0]\teval-auc:0.66523\ttrain-auc:0.676723\n",
            "[10]\teval-auc:0.69289\ttrain-auc:0.709939\n",
            "[20]\teval-auc:0.698114\ttrain-auc:0.720525\n",
            "[30]\teval-auc:0.701603\ttrain-auc:0.728656\n",
            "[40]\teval-auc:0.705543\ttrain-auc:0.736244\n",
            "[50]\teval-auc:0.708199\ttrain-auc:0.742738\n",
            "[60]\teval-auc:0.711461\ttrain-auc:0.749921\n",
            "[70]\teval-auc:0.713368\ttrain-auc:0.754926\n",
            "[80]\teval-auc:0.715338\ttrain-auc:0.759913\n",
            "[90]\teval-auc:0.71648\ttrain-auc:0.76391\n",
            "[100]\teval-auc:0.717906\ttrain-auc:0.769406\n",
            "[110]\teval-auc:0.719619\ttrain-auc:0.774164\n",
            "[120]\teval-auc:0.721018\ttrain-auc:0.777945\n",
            "[130]\teval-auc:0.722469\ttrain-auc:0.781967\n",
            "[140]\teval-auc:0.724401\ttrain-auc:0.787356\n",
            "[150]\teval-auc:0.725924\ttrain-auc:0.790786\n",
            "[160]\teval-auc:0.727434\ttrain-auc:0.795144\n",
            "[170]\teval-auc:0.728172\ttrain-auc:0.798737\n",
            "[180]\teval-auc:0.728969\ttrain-auc:0.802114\n",
            "[190]\teval-auc:0.72948\ttrain-auc:0.805042\n",
            "[200]\teval-auc:0.730306\ttrain-auc:0.808695\n",
            "[210]\teval-auc:0.731282\ttrain-auc:0.811943\n",
            "[220]\teval-auc:0.732204\ttrain-auc:0.814245\n",
            "[230]\teval-auc:0.733128\ttrain-auc:0.817254\n",
            "[240]\teval-auc:0.733571\ttrain-auc:0.820596\n",
            "[250]\teval-auc:0.734091\ttrain-auc:0.823594\n",
            "[260]\teval-auc:0.734639\ttrain-auc:0.826238\n",
            "[270]\teval-auc:0.735006\ttrain-auc:0.828995\n",
            "[280]\teval-auc:0.735265\ttrain-auc:0.832041\n",
            "[290]\teval-auc:0.735964\ttrain-auc:0.834756\n",
            "[299]\teval-auc:0.736341\ttrain-auc:0.836982\n"
          ],
          "name": "stdout"
        }
      ]
    },
    {
      "cell_type": "code",
      "metadata": {
        "scrolled": true,
        "id": "GQF3_YHvfR-r",
        "colab_type": "code",
        "outputId": "b5fcfa70-dda8-4802-a5f9-0891e7bd747d",
        "colab": {
          "base_uri": "https://localhost:8080/",
          "height": 312
        }
      },
      "source": [
        "xgb.plot_importance(xgb_model)"
      ],
      "execution_count": 0,
      "outputs": [
        {
          "output_type": "execute_result",
          "data": {
            "text/plain": [
              "<matplotlib.axes._subplots.AxesSubplot at 0x7f381eb4c588>"
            ]
          },
          "metadata": {
            "tags": []
          },
          "execution_count": 117
        },
        {
          "output_type": "display_data",
          "data": {
            "image/png": "[encoded data removed]",
            "text/plain": [
              "<Figure size 432x288 with 1 Axes>"
            ]
          },
          "metadata": {
            "tags": []
          }
        }
      ]
    },
    {
      "cell_type": "code",
      "metadata": {
        "id": "ZTo1fckqfR-t",
        "colab_type": "code",
        "outputId": "a4a54b80-f72c-41a1-e011-16fe7758e42c",
        "colab": {
          "base_uri": "https://localhost:8080/",
          "height": 87
        }
      },
      "source": [
        "xgb.plot_tree(xgb_model, num_trees=1)"
      ],
      "execution_count": 0,
      "outputs": [
        {
          "output_type": "execute_result",
          "data": {
            "text/plain": [
              "<matplotlib.axes._subplots.AxesSubplot at 0x7f381eac7438>"
            ]
          },
          "metadata": {
            "tags": []
          },
          "execution_count": 118
        },
        {
          "output_type": "display_data",
          "data": {
            "image/png": "[encoded data removed]",
            "text/plain": [
              "<Figure size 432x288 with 1 Axes>"
            ]
          },
          "metadata": {
            "tags": []
          }
        }
      ]
    },
    {
      "cell_type": "code",
      "metadata": {
        "scrolled": true,
        "id": "_i59ALvKfR-w",
        "colab_type": "code",
        "outputId": "2552d7c8-cff1-4a1c-ed04-af7049531dcd",
        "colab": {
          "base_uri": "https://localhost:8080/",
          "height": 796
        }
      },
      "source": [
        "xgb.to_graphviz(xgb_model, num_trees=199)"
      ],
      "execution_count": 0,
      "outputs": [
        {
          "output_type": "execute_result",
          "data": {
            "text/plain": [
              "<graphviz.dot.Digraph at 0x7f381ea8fa20>"
            ],
            "image/svg+xml": "<?xml version=\"1.0\" encoding=\"UTF-8\" standalone=\"no\"?>\n<!DOCTYPE svg PUBLIC \"-//W3C//DTD SVG 1.1//EN\"\n \"http://www.w3.org/Graphics/SVG/1.1/DTD/svg11.dtd\">\n<!-- Generated by graphviz version 2.40.1 (20161225.0304)\n -->\n<!-- Title: %3 Pages: 1 -->\n<svg width=\"5471pt\" height=\"566pt\"\n viewBox=\"0.00 0.00 5470.78 566.00\" xmlns=\"http://www.w3.org/2000/svg\" xmlns:xlink=\"http://www.w3.org/1999/xlink\">\n<g id=\"graph0\" class=\"graph\" transform=\"scale(1 1) rotate(0) translate(4 562)\">\n<title>%3</title>\n<polygon fill=\"#ffffff\" stroke=\"transparent\" points=\"-4,4 -4,-562 5466.7843,-562 5466.7843,4 -4,4\"/>\n<!-- 0 -->\n<g id=\"node1\" class=\"node\">\n<title>0</title>\n<ellipse fill=\"none\" stroke=\"#000000\" cx=\"1588.3922\" cy=\"-540\" rx=\"116.1796\" ry=\"18\"/>\n<text text-anchor=\"middle\" x=\"1588.3922\" y=\"-536.3\" font-family=\"Times,serif\" font-size=\"14.00\" fill=\"#000000\">days_since_prior_order&lt;0.5</text>\n</g>\n<!-- 1 -->\n<g id=\"node2\" class=\"node\">\n<title>1</title>\n<ellipse fill=\"none\" stroke=\"#000000\" cx=\"1061.3922\" cy=\"-453\" rx=\"128.0773\" ry=\"18\"/>\n<text text-anchor=\"middle\" x=\"1061.3922\" y=\"-449.3\" font-family=\"Times,serif\" font-size=\"14.00\" fill=\"#000000\">up_orders_since_last_order&lt;50</text>\n</g>\n<!-- 0&#45;&gt;1 -->\n<g id=\"edge1\" class=\"edge\">\n<title>0&#45;&gt;1</title>\n<path fill=\"none\" stroke=\"#0000ff\" d=\"M1508.6385,-526.8338C1413.6367,-511.1504 1255.1812,-484.9917 1154.6119,-468.3892\"/>\n<polygon fill=\"#0000ff\" stroke=\"#0000ff\" points=\"1154.8965,-464.8889 1144.46,-466.7133 1153.7563,-471.7954 1154.8965,-464.8889\"/>\n<text text-anchor=\"middle\" x=\"1392.8922\" y=\"-492.8\" font-family=\"Times,serif\" font-size=\"14.00\" fill=\"#000000\">yes, missing</text>\n</g>\n<!-- 2 -->\n<g id=\"node3\" class=\"node\">\n<title>2</title>\n<ellipse fill=\"none\" stroke=\"#000000\" cx=\"2144.3922\" cy=\"-453\" rx=\"167.0704\" ry=\"18\"/>\n<text text-anchor=\"middle\" x=\"2144.3922\" y=\"-449.3\" font-family=\"Times,serif\" font-size=\"14.00\" fill=\"#000000\">prod_reorder_probability&lt;0.0883037001</text>\n</g>\n<!-- 0&#45;&gt;2 -->\n<g id=\"edge2\" class=\"edge\">\n<title>0&#45;&gt;2</title>\n<path fill=\"none\" stroke=\"#ff0000\" d=\"M1670.4319,-527.1629C1768.3173,-511.8463 1932.1516,-486.2103 2039.2465,-469.4526\"/>\n<polygon fill=\"#ff0000\" stroke=\"#ff0000\" points=\"2040.0906,-472.8632 2049.4293,-467.8593 2039.0084,-465.9474 2040.0906,-472.8632\"/>\n<text text-anchor=\"middle\" x=\"1908.3922\" y=\"-492.8\" font-family=\"Times,serif\" font-size=\"14.00\" fill=\"#000000\">no</text>\n</g>\n<!-- 3 -->\n<g id=\"node4\" class=\"node\">\n<title>3</title>\n<ellipse fill=\"none\" stroke=\"#000000\" cx=\"644.3922\" cy=\"-366\" rx=\"191.1661\" ry=\"18\"/>\n<text text-anchor=\"middle\" x=\"644.3922\" y=\"-362.3\" font-family=\"Times,serif\" font-size=\"14.00\" fill=\"#000000\">up_order_rate_since_first_order&lt;0.0336158201</text>\n</g>\n<!-- 1&#45;&gt;3 -->\n<g id=\"edge3\" class=\"edge\">\n<title>1&#45;&gt;3</title>\n<path fill=\"none\" stroke=\"#0000ff\" d=\"M989.7073,-438.0442C918.7269,-423.2353 809.8713,-400.5244 733.3954,-384.569\"/>\n<polygon fill=\"#0000ff\" stroke=\"#0000ff\" points=\"733.8008,-381.0783 723.2968,-382.4621 732.3711,-387.9308 733.8008,-381.0783\"/>\n<text text-anchor=\"middle\" x=\"913.8922\" y=\"-405.8\" font-family=\"Times,serif\" font-size=\"14.00\" fill=\"#000000\">yes, missing</text>\n</g>\n<!-- 4 -->\n<g id=\"node5\" class=\"node\">\n<title>4</title>\n<ellipse fill=\"none\" stroke=\"#000000\" cx=\"1061.3922\" cy=\"-366\" rx=\"87.9851\" ry=\"18\"/>\n<text text-anchor=\"middle\" x=\"1061.3922\" y=\"-362.3\" font-family=\"Times,serif\" font-size=\"14.00\" fill=\"#000000\">leaf=&#45;0.0511385277</text>\n</g>\n<!-- 1&#45;&gt;4 -->\n<g id=\"edge4\" class=\"edge\">\n<title>1&#45;&gt;4</title>\n<path fill=\"none\" stroke=\"#ff0000\" d=\"M1061.3922,-434.9735C1061.3922,-423.1918 1061.3922,-407.5607 1061.3922,-394.1581\"/>\n<polygon fill=\"#ff0000\" stroke=\"#ff0000\" points=\"1064.8923,-394.0033 1061.3922,-384.0034 1057.8923,-394.0034 1064.8923,-394.0033\"/>\n<text text-anchor=\"middle\" x=\"1069.3922\" y=\"-405.8\" font-family=\"Times,serif\" font-size=\"14.00\" fill=\"#000000\">no</text>\n</g>\n<!-- 5 -->\n<g id=\"node18\" class=\"node\">\n<title>5</title>\n<ellipse fill=\"none\" stroke=\"#000000\" cx=\"2144.3922\" cy=\"-366\" rx=\"161.6714\" ry=\"18\"/>\n<text text-anchor=\"middle\" x=\"2144.3922\" y=\"-362.3\" font-family=\"Times,serif\" font-size=\"14.00\" fill=\"#000000\">prod_reorder_probability&lt;0.086581707</text>\n</g>\n<!-- 2&#45;&gt;5 -->\n<g id=\"edge17\" class=\"edge\">\n<title>2&#45;&gt;5</title>\n<path fill=\"none\" stroke=\"#0000ff\" d=\"M2144.3922,-434.9735C2144.3922,-423.1918 2144.3922,-407.5607 2144.3922,-394.1581\"/>\n<polygon fill=\"#0000ff\" stroke=\"#0000ff\" points=\"2147.8923,-394.0033 2144.3922,-384.0034 2140.8923,-394.0034 2147.8923,-394.0033\"/>\n<text text-anchor=\"middle\" x=\"2179.8922\" y=\"-405.8\" font-family=\"Times,serif\" font-size=\"14.00\" fill=\"#000000\">yes, missing</text>\n</g>\n<!-- 6 -->\n<g id=\"node19\" class=\"node\">\n<title>6</title>\n<ellipse fill=\"none\" stroke=\"#000000\" cx=\"3395.3922\" cy=\"-366\" rx=\"143.7746\" ry=\"18\"/>\n<text text-anchor=\"middle\" x=\"3395.3922\" y=\"-362.3\" font-family=\"Times,serif\" font-size=\"14.00\" fill=\"#000000\">user_average_basket&lt;0.104031384</text>\n</g>\n<!-- 2&#45;&gt;6 -->\n<g id=\"edge18\" class=\"edge\">\n<title>2&#45;&gt;6</title>\n<path fill=\"none\" stroke=\"#ff0000\" d=\"M2284.8606,-443.2312C2527.1244,-426.3831 3020.4797,-392.073 3259.5235,-375.4489\"/>\n<polygon fill=\"#ff0000\" stroke=\"#ff0000\" points=\"3259.9321,-378.929 3269.6651,-374.7436 3259.4464,-371.9459 3259.9321,-378.929\"/>\n<text text-anchor=\"middle\" x=\"2853.3922\" y=\"-405.8\" font-family=\"Times,serif\" font-size=\"14.00\" fill=\"#000000\">no</text>\n</g>\n<!-- 7 -->\n<g id=\"node6\" class=\"node\">\n<title>7</title>\n<ellipse fill=\"none\" stroke=\"#000000\" cx=\"406.3922\" cy=\"-279\" rx=\"85.2851\" ry=\"18\"/>\n<text text-anchor=\"middle\" x=\"406.3922\" y=\"-275.3\" font-family=\"Times,serif\" font-size=\"14.00\" fill=\"#000000\">leaf=0.0740675032</text>\n</g>\n<!-- 3&#45;&gt;7 -->\n<g id=\"edge5\" class=\"edge\">\n<title>3&#45;&gt;7</title>\n<path fill=\"none\" stroke=\"#0000ff\" d=\"M596.5156,-348.4989C556.679,-333.9368 500.046,-313.2348 458.9598,-298.2159\"/>\n<polygon fill=\"#0000ff\" stroke=\"#0000ff\" points=\"459.9885,-294.8655 449.3947,-294.7194 457.5852,-301.44 459.9885,-294.8655\"/>\n<text text-anchor=\"middle\" x=\"575.8922\" y=\"-318.8\" font-family=\"Times,serif\" font-size=\"14.00\" fill=\"#000000\">yes, missing</text>\n</g>\n<!-- 8 -->\n<g id=\"node7\" class=\"node\">\n<title>8</title>\n<ellipse fill=\"none\" stroke=\"#000000\" cx=\"644.3922\" cy=\"-279\" rx=\"135.3763\" ry=\"18\"/>\n<text text-anchor=\"middle\" x=\"644.3922\" y=\"-275.3\" font-family=\"Times,serif\" font-size=\"14.00\" fill=\"#000000\">user_reorder_ratio&lt;0.733201623</text>\n</g>\n<!-- 3&#45;&gt;8 -->\n<g id=\"edge6\" class=\"edge\">\n<title>3&#45;&gt;8</title>\n<path fill=\"none\" stroke=\"#ff0000\" d=\"M644.3922,-347.9735C644.3922,-336.1918 644.3922,-320.5607 644.3922,-307.1581\"/>\n<polygon fill=\"#ff0000\" stroke=\"#ff0000\" points=\"647.8923,-307.0033 644.3922,-297.0034 640.8923,-307.0034 647.8923,-307.0033\"/>\n<text text-anchor=\"middle\" x=\"652.3922\" y=\"-318.8\" font-family=\"Times,serif\" font-size=\"14.00\" fill=\"#000000\">no</text>\n</g>\n<!-- 13 -->\n<g id=\"node8\" class=\"node\">\n<title>13</title>\n<ellipse fill=\"none\" stroke=\"#000000\" cx=\"304.3922\" cy=\"-192\" rx=\"165.9709\" ry=\"18\"/>\n<text text-anchor=\"middle\" x=\"304.3922\" y=\"-188.3\" font-family=\"Times,serif\" font-size=\"14.00\" fill=\"#000000\">user_mean_days_since_prior&lt;10.121212</text>\n</g>\n<!-- 8&#45;&gt;13 -->\n<g id=\"edge7\" class=\"edge\">\n<title>8&#45;&gt;13</title>\n<path fill=\"none\" stroke=\"#0000ff\" d=\"M581.6347,-262.9415C524.4716,-248.3145 439.9657,-226.6909 379.2902,-211.1651\"/>\n<polygon fill=\"#0000ff\" stroke=\"#0000ff\" points=\"379.9427,-207.7194 369.3872,-208.6311 378.2074,-214.5009 379.9427,-207.7194\"/>\n<text text-anchor=\"middle\" x=\"504.8922\" y=\"-231.8\" font-family=\"Times,serif\" font-size=\"14.00\" fill=\"#000000\">yes</text>\n</g>\n<!-- 14 -->\n<g id=\"node9\" class=\"node\">\n<title>14</title>\n<ellipse fill=\"none\" stroke=\"#000000\" cx=\"644.3922\" cy=\"-192\" rx=\"135.3763\" ry=\"18\"/>\n<text text-anchor=\"middle\" x=\"644.3922\" y=\"-188.3\" font-family=\"Times,serif\" font-size=\"14.00\" fill=\"#000000\">user_reorder_ratio&lt;0.766968369</text>\n</g>\n<!-- 8&#45;&gt;14 -->\n<g id=\"edge8\" class=\"edge\">\n<title>8&#45;&gt;14</title>\n<path fill=\"none\" stroke=\"#ff0000\" d=\"M644.3922,-260.9735C644.3922,-249.1918 644.3922,-233.5607 644.3922,-220.1581\"/>\n<polygon fill=\"#ff0000\" stroke=\"#ff0000\" points=\"647.8923,-220.0033 644.3922,-210.0034 640.8923,-220.0034 647.8923,-220.0033\"/>\n<text text-anchor=\"middle\" x=\"677.8922\" y=\"-231.8\" font-family=\"Times,serif\" font-size=\"14.00\" fill=\"#000000\">no, missing</text>\n</g>\n<!-- 23 -->\n<g id=\"node10\" class=\"node\">\n<title>23</title>\n<ellipse fill=\"none\" stroke=\"#000000\" cx=\"88.3922\" cy=\"-105\" rx=\"88.2844\" ry=\"18\"/>\n<text text-anchor=\"middle\" x=\"88.3922\" y=\"-101.3\" font-family=\"Times,serif\" font-size=\"14.00\" fill=\"#000000\">leaf=&#45;0.0498334207</text>\n</g>\n<!-- 13&#45;&gt;23 -->\n<g id=\"edge9\" class=\"edge\">\n<title>13&#45;&gt;23</title>\n<path fill=\"none\" stroke=\"#0000ff\" d=\"M261.2005,-174.6033C225.7139,-160.3101 175.4136,-140.0503 138.2262,-125.072\"/>\n<polygon fill=\"#0000ff\" stroke=\"#0000ff\" points=\"139.1744,-121.6808 128.5909,-121.1911 136.5591,-128.1739 139.1744,-121.6808\"/>\n<text text-anchor=\"middle\" x=\"244.8922\" y=\"-144.8\" font-family=\"Times,serif\" font-size=\"14.00\" fill=\"#000000\">yes, missing</text>\n</g>\n<!-- 24 -->\n<g id=\"node11\" class=\"node\">\n<title>24</title>\n<ellipse fill=\"none\" stroke=\"#000000\" cx=\"304.3922\" cy=\"-105\" rx=\"109.6807\" ry=\"18\"/>\n<text text-anchor=\"middle\" x=\"304.3922\" y=\"-101.3\" font-family=\"Times,serif\" font-size=\"14.00\" fill=\"#000000\">user_distinct_products&lt;14</text>\n</g>\n<!-- 13&#45;&gt;24 -->\n<g id=\"edge10\" class=\"edge\">\n<title>13&#45;&gt;24</title>\n<path fill=\"none\" stroke=\"#ff0000\" d=\"M304.3922,-173.9735C304.3922,-162.1918 304.3922,-146.5607 304.3922,-133.1581\"/>\n<polygon fill=\"#ff0000\" stroke=\"#ff0000\" points=\"307.8923,-133.0033 304.3922,-123.0034 300.8923,-133.0034 307.8923,-133.0033\"/>\n<text text-anchor=\"middle\" x=\"312.3922\" y=\"-144.8\" font-family=\"Times,serif\" font-size=\"14.00\" fill=\"#000000\">no</text>\n</g>\n<!-- 25 -->\n<g id=\"node14\" class=\"node\">\n<title>25</title>\n<ellipse fill=\"none\" stroke=\"#000000\" cx=\"511.3922\" cy=\"-105\" rx=\"79.0865\" ry=\"18\"/>\n<text text-anchor=\"middle\" x=\"511.3922\" y=\"-101.3\" font-family=\"Times,serif\" font-size=\"14.00\" fill=\"#000000\">leaf=0.111297444</text>\n</g>\n<!-- 14&#45;&gt;25 -->\n<g id=\"edge13\" class=\"edge\">\n<title>14&#45;&gt;25</title>\n<path fill=\"none\" stroke=\"#0000ff\" d=\"M617.1567,-174.1843C596.6266,-160.7548 568.3177,-142.237 546.1538,-127.7388\"/>\n<polygon fill=\"#0000ff\" stroke=\"#0000ff\" points=\"547.9694,-124.7442 537.6848,-122.199 544.1374,-130.6022 547.9694,-124.7442\"/>\n<text text-anchor=\"middle\" x=\"621.8922\" y=\"-144.8\" font-family=\"Times,serif\" font-size=\"14.00\" fill=\"#000000\">yes, missing</text>\n</g>\n<!-- 26 -->\n<g id=\"node15\" class=\"node\">\n<title>26</title>\n<ellipse fill=\"none\" stroke=\"#000000\" cx=\"707.3922\" cy=\"-105\" rx=\"98.5829\" ry=\"18\"/>\n<text text-anchor=\"middle\" x=\"707.3922\" y=\"-101.3\" font-family=\"Times,serif\" font-size=\"14.00\" fill=\"#000000\">user_total_products&lt;19</text>\n</g>\n<!-- 14&#45;&gt;26 -->\n<g id=\"edge14\" class=\"edge\">\n<title>14&#45;&gt;26</title>\n<path fill=\"none\" stroke=\"#ff0000\" d=\"M657.4458,-173.9735C666.3998,-161.6085 678.424,-145.0036 688.4308,-131.1847\"/>\n<polygon fill=\"#ff0000\" stroke=\"#ff0000\" points=\"691.3249,-133.1556 694.3552,-123.0034 685.6553,-129.05 691.3249,-133.1556\"/>\n<text text-anchor=\"middle\" x=\"688.3922\" y=\"-144.8\" font-family=\"Times,serif\" font-size=\"14.00\" fill=\"#000000\">no</text>\n</g>\n<!-- 41 -->\n<g id=\"node12\" class=\"node\">\n<title>41</title>\n<ellipse fill=\"none\" stroke=\"#000000\" cx=\"116.3922\" cy=\"-18\" rx=\"85.2851\" ry=\"18\"/>\n<text text-anchor=\"middle\" x=\"116.3922\" y=\"-14.3\" font-family=\"Times,serif\" font-size=\"14.00\" fill=\"#000000\">leaf=0.0525055639</text>\n</g>\n<!-- 24&#45;&gt;41 -->\n<g id=\"edge11\" class=\"edge\">\n<title>24&#45;&gt;41</title>\n<path fill=\"none\" stroke=\"#0000ff\" d=\"M267.6976,-88.019C237.2559,-73.9316 193.848,-53.8439 161.3271,-38.7944\"/>\n<polygon fill=\"#0000ff\" stroke=\"#0000ff\" points=\"162.5829,-35.519 152.0377,-34.4955 159.6431,-41.8717 162.5829,-35.519\"/>\n<text text-anchor=\"middle\" x=\"257.8922\" y=\"-57.8\" font-family=\"Times,serif\" font-size=\"14.00\" fill=\"#000000\">yes, missing</text>\n</g>\n<!-- 42 -->\n<g id=\"node13\" class=\"node\">\n<title>42</title>\n<ellipse fill=\"none\" stroke=\"#000000\" cx=\"312.3922\" cy=\"-18\" rx=\"92.8835\" ry=\"18\"/>\n<text text-anchor=\"middle\" x=\"312.3922\" y=\"-14.3\" font-family=\"Times,serif\" font-size=\"14.00\" fill=\"#000000\">leaf=&#45;0.00581902964</text>\n</g>\n<!-- 24&#45;&gt;42 -->\n<g id=\"edge12\" class=\"edge\">\n<title>24&#45;&gt;42</title>\n<path fill=\"none\" stroke=\"#ff0000\" d=\"M306.0498,-86.9735C307.1331,-75.1918 308.5705,-59.5607 309.8029,-46.1581\"/>\n<polygon fill=\"#ff0000\" stroke=\"#ff0000\" points=\"313.3062,-46.2819 310.7367,-36.0034 306.3356,-45.6408 313.3062,-46.2819\"/>\n<text text-anchor=\"middle\" x=\"317.3922\" y=\"-57.8\" font-family=\"Times,serif\" font-size=\"14.00\" fill=\"#000000\">no</text>\n</g>\n<!-- 43 -->\n<g id=\"node16\" class=\"node\">\n<title>43</title>\n<ellipse fill=\"none\" stroke=\"#000000\" cx=\"520.3922\" cy=\"-18\" rx=\"88.2844\" ry=\"18\"/>\n<text text-anchor=\"middle\" x=\"520.3922\" y=\"-14.3\" font-family=\"Times,serif\" font-size=\"14.00\" fill=\"#000000\">leaf=&#45;0.0268472638</text>\n</g>\n<!-- 26&#45;&gt;43 -->\n<g id=\"edge15\" class=\"edge\">\n<title>26&#45;&gt;43</title>\n<path fill=\"none\" stroke=\"#0000ff\" d=\"M671.3367,-88.2255C641.1017,-74.159 597.7822,-54.005 565.2991,-38.8925\"/>\n<polygon fill=\"#0000ff\" stroke=\"#0000ff\" points=\"566.5626,-35.6201 556.0194,-34.5752 563.6098,-41.9669 566.5626,-35.6201\"/>\n<text text-anchor=\"middle\" x=\"660.8922\" y=\"-57.8\" font-family=\"Times,serif\" font-size=\"14.00\" fill=\"#000000\">yes, missing</text>\n</g>\n<!-- 44 -->\n<g id=\"node17\" class=\"node\">\n<title>44</title>\n<ellipse fill=\"none\" stroke=\"#000000\" cx=\"707.3922\" cy=\"-18\" rx=\"80.6858\" ry=\"18\"/>\n<text text-anchor=\"middle\" x=\"707.3922\" y=\"-14.3\" font-family=\"Times,serif\" font-size=\"14.00\" fill=\"#000000\">leaf=0.043056231</text>\n</g>\n<!-- 26&#45;&gt;44 -->\n<g id=\"edge16\" class=\"edge\">\n<title>26&#45;&gt;44</title>\n<path fill=\"none\" stroke=\"#ff0000\" d=\"M707.3922,-86.9735C707.3922,-75.1918 707.3922,-59.5607 707.3922,-46.1581\"/>\n<polygon fill=\"#ff0000\" stroke=\"#ff0000\" points=\"710.8923,-46.0033 707.3922,-36.0034 703.8923,-46.0034 710.8923,-46.0033\"/>\n<text text-anchor=\"middle\" x=\"715.3922\" y=\"-57.8\" font-family=\"Times,serif\" font-size=\"14.00\" fill=\"#000000\">no</text>\n</g>\n<!-- 9 -->\n<g id=\"node20\" class=\"node\">\n<title>9</title>\n<ellipse fill=\"none\" stroke=\"#000000\" cx=\"1936.3922\" cy=\"-279\" rx=\"181.168\" ry=\"18\"/>\n<text text-anchor=\"middle\" x=\"1936.3922\" y=\"-275.3\" font-family=\"Times,serif\" font-size=\"14.00\" fill=\"#000000\">up_order_rate_since_first_order&lt;0.29285717</text>\n</g>\n<!-- 5&#45;&gt;9 -->\n<g id=\"edge19\" class=\"edge\">\n<title>5&#45;&gt;9</title>\n<path fill=\"none\" stroke=\"#0000ff\" d=\"M2102.8002,-348.6033C2069.7486,-334.7789 2023.3523,-315.3728 1987.9435,-300.5624\"/>\n<polygon fill=\"#0000ff\" stroke=\"#0000ff\" points=\"1988.8441,-297.1453 1978.268,-296.5154 1986.143,-303.6031 1988.8441,-297.1453\"/>\n<text text-anchor=\"middle\" x=\"2088.8922\" y=\"-318.8\" font-family=\"Times,serif\" font-size=\"14.00\" fill=\"#000000\">yes, missing</text>\n</g>\n<!-- 10 -->\n<g id=\"node21\" class=\"node\">\n<title>10</title>\n<ellipse fill=\"none\" stroke=\"#000000\" cx=\"2539.3922\" cy=\"-279\" rx=\"129.1772\" ry=\"18\"/>\n<text text-anchor=\"middle\" x=\"2539.3922\" y=\"-275.3\" font-family=\"Times,serif\" font-size=\"14.00\" fill=\"#000000\">up_average_cart_position&lt;16.5</text>\n</g>\n<!-- 5&#45;&gt;10 -->\n<g id=\"edge20\" class=\"edge\">\n<title>5&#45;&gt;10</title>\n<path fill=\"none\" stroke=\"#ff0000\" d=\"M2217.7629,-349.8399C2286.555,-334.6882 2389.1357,-312.0945 2459.8602,-296.5172\"/>\n<polygon fill=\"#ff0000\" stroke=\"#ff0000\" points=\"2461.0429,-299.8406 2470.056,-294.2715 2459.5372,-293.0045 2461.0429,-299.8406\"/>\n<text text-anchor=\"middle\" x=\"2374.3922\" y=\"-318.8\" font-family=\"Times,serif\" font-size=\"14.00\" fill=\"#000000\">no</text>\n</g>\n<!-- 11 -->\n<g id=\"node44\" class=\"node\">\n<title>11</title>\n<ellipse fill=\"none\" stroke=\"#000000\" cx=\"3395.3922\" cy=\"-279\" rx=\"148.6738\" ry=\"18\"/>\n<text text-anchor=\"middle\" x=\"3395.3922\" y=\"-275.3\" font-family=\"Times,serif\" font-size=\"14.00\" fill=\"#000000\">user_average_basket&lt;0.0786893666</text>\n</g>\n<!-- 6&#45;&gt;11 -->\n<g id=\"edge43\" class=\"edge\">\n<title>6&#45;&gt;11</title>\n<path fill=\"none\" stroke=\"#0000ff\" d=\"M3395.3922,-347.9735C3395.3922,-336.1918 3395.3922,-320.5607 3395.3922,-307.1581\"/>\n<polygon fill=\"#0000ff\" stroke=\"#0000ff\" points=\"3398.8923,-307.0033 3395.3922,-297.0034 3391.8923,-307.0034 3398.8923,-307.0033\"/>\n<text text-anchor=\"middle\" x=\"3430.8922\" y=\"-318.8\" font-family=\"Times,serif\" font-size=\"14.00\" fill=\"#000000\">yes, missing</text>\n</g>\n<!-- 12 -->\n<g id=\"node45\" class=\"node\">\n<title>12</title>\n<ellipse fill=\"none\" stroke=\"#000000\" cx=\"4307.3922\" cy=\"-279\" rx=\"109.6807\" ry=\"18\"/>\n<text text-anchor=\"middle\" x=\"4307.3922\" y=\"-275.3\" font-family=\"Times,serif\" font-size=\"14.00\" fill=\"#000000\">user_distinct_products&lt;55</text>\n</g>\n<!-- 6&#45;&gt;12 -->\n<g id=\"edge44\" class=\"edge\">\n<title>6&#45;&gt;12</title>\n<path fill=\"none\" stroke=\"#ff0000\" d=\"M3509.9741,-355.0695C3688.3354,-338.0548 4029.7585,-305.4848 4202.197,-289.0351\"/>\n<polygon fill=\"#ff0000\" stroke=\"#ff0000\" points=\"4202.6759,-292.5054 4212.2983,-288.0715 4202.0111,-285.537 4202.6759,-292.5054\"/>\n<text text-anchor=\"middle\" x=\"3914.3922\" y=\"-318.8\" font-family=\"Times,serif\" font-size=\"14.00\" fill=\"#000000\">no</text>\n</g>\n<!-- 15 -->\n<g id=\"node22\" class=\"node\">\n<title>15</title>\n<ellipse fill=\"none\" stroke=\"#000000\" cx=\"1427.3922\" cy=\"-192\" rx=\"124.2781\" ry=\"18\"/>\n<text text-anchor=\"middle\" x=\"1427.3922\" y=\"-188.3\" font-family=\"Times,serif\" font-size=\"14.00\" fill=\"#000000\">up_order_rate&lt;0.0944940448</text>\n</g>\n<!-- 9&#45;&gt;15 -->\n<g id=\"edge21\" class=\"edge\">\n<title>9&#45;&gt;15</title>\n<path fill=\"none\" stroke=\"#0000ff\" d=\"M1845.0994,-263.3959C1752.4921,-247.5672 1610.0171,-223.2149 1517.748,-207.4439\"/>\n<polygon fill=\"#0000ff\" stroke=\"#0000ff\" points=\"1518.3134,-203.9899 1507.8667,-205.755 1517.134,-210.8898 1518.3134,-203.9899\"/>\n<text text-anchor=\"middle\" x=\"1747.8922\" y=\"-231.8\" font-family=\"Times,serif\" font-size=\"14.00\" fill=\"#000000\">yes, missing</text>\n</g>\n<!-- 16 -->\n<g id=\"node23\" class=\"node\">\n<title>16</title>\n<ellipse fill=\"none\" stroke=\"#000000\" cx=\"1936.3922\" cy=\"-192\" rx=\"129.1772\" ry=\"18\"/>\n<text text-anchor=\"middle\" x=\"1936.3922\" y=\"-188.3\" font-family=\"Times,serif\" font-size=\"14.00\" fill=\"#000000\">up_average_cart_position&lt;5.25</text>\n</g>\n<!-- 9&#45;&gt;16 -->\n<g id=\"edge22\" class=\"edge\">\n<title>9&#45;&gt;16</title>\n<path fill=\"none\" stroke=\"#ff0000\" d=\"M1936.3922,-260.9735C1936.3922,-249.1918 1936.3922,-233.5607 1936.3922,-220.1581\"/>\n<polygon fill=\"#ff0000\" stroke=\"#ff0000\" points=\"1939.8923,-220.0033 1936.3922,-210.0034 1932.8923,-220.0034 1939.8923,-220.0033\"/>\n<text text-anchor=\"middle\" x=\"1944.3922\" y=\"-231.8\" font-family=\"Times,serif\" font-size=\"14.00\" fill=\"#000000\">no</text>\n</g>\n<!-- 17 -->\n<g id=\"node36\" class=\"node\">\n<title>17</title>\n<ellipse fill=\"none\" stroke=\"#000000\" cx=\"2539.3922\" cy=\"-192\" rx=\"170.8697\" ry=\"18\"/>\n<text text-anchor=\"middle\" x=\"2539.3922\" y=\"-188.3\" font-family=\"Times,serif\" font-size=\"14.00\" fill=\"#000000\">user_mean_days_since_prior&lt;6.23563671</text>\n</g>\n<!-- 10&#45;&gt;17 -->\n<g id=\"edge35\" class=\"edge\">\n<title>10&#45;&gt;17</title>\n<path fill=\"none\" stroke=\"#0000ff\" d=\"M2539.3922,-260.9735C2539.3922,-249.1918 2539.3922,-233.5607 2539.3922,-220.1581\"/>\n<polygon fill=\"#0000ff\" stroke=\"#0000ff\" points=\"2542.8923,-220.0033 2539.3922,-210.0034 2535.8923,-220.0034 2542.8923,-220.0033\"/>\n<text text-anchor=\"middle\" x=\"2574.8922\" y=\"-231.8\" font-family=\"Times,serif\" font-size=\"14.00\" fill=\"#000000\">yes, missing</text>\n</g>\n<!-- 18 -->\n<g id=\"node37\" class=\"node\">\n<title>18</title>\n<ellipse fill=\"none\" stroke=\"#000000\" cx=\"2813.3922\" cy=\"-192\" rx=\"85.2851\" ry=\"18\"/>\n<text text-anchor=\"middle\" x=\"2813.3922\" y=\"-188.3\" font-family=\"Times,serif\" font-size=\"14.00\" fill=\"#000000\">leaf=0.0291871969</text>\n</g>\n<!-- 10&#45;&gt;18 -->\n<g id=\"edge36\" class=\"edge\">\n<title>10&#45;&gt;18</title>\n<path fill=\"none\" stroke=\"#ff0000\" d=\"M2591.5744,-262.4312C2638.6396,-247.4871 2707.7231,-225.5519 2756.258,-210.1411\"/>\n<polygon fill=\"#ff0000\" stroke=\"#ff0000\" points=\"2757.5108,-213.4156 2765.9827,-207.0534 2755.3924,-206.7439 2757.5108,-213.4156\"/>\n<text text-anchor=\"middle\" x=\"2701.3922\" y=\"-231.8\" font-family=\"Times,serif\" font-size=\"14.00\" fill=\"#000000\">no</text>\n</g>\n<!-- 27 -->\n<g id=\"node24\" class=\"node\">\n<title>27</title>\n<ellipse fill=\"none\" stroke=\"#000000\" cx=\"1087.3922\" cy=\"-105\" rx=\"135.3763\" ry=\"18\"/>\n<text text-anchor=\"middle\" x=\"1087.3922\" y=\"-101.3\" font-family=\"Times,serif\" font-size=\"14.00\" fill=\"#000000\">user_reorder_ratio&lt;0.121323526</text>\n</g>\n<!-- 15&#45;&gt;27 -->\n<g id=\"edge23\" class=\"edge\">\n<title>15&#45;&gt;27</title>\n<path fill=\"none\" stroke=\"#0000ff\" d=\"M1365.8207,-176.245C1307.904,-161.4251 1221.1703,-139.2315 1159.9251,-123.5599\"/>\n<polygon fill=\"#0000ff\" stroke=\"#0000ff\" points=\"1160.4984,-120.0939 1149.9429,-121.0056 1158.7631,-126.8754 1160.4984,-120.0939\"/>\n<text text-anchor=\"middle\" x=\"1313.8922\" y=\"-144.8\" font-family=\"Times,serif\" font-size=\"14.00\" fill=\"#000000\">yes, missing</text>\n</g>\n<!-- 28 -->\n<g id=\"node25\" class=\"node\">\n<title>28</title>\n<ellipse fill=\"none\" stroke=\"#000000\" cx=\"1427.3922\" cy=\"-105\" rx=\"139.1754\" ry=\"18\"/>\n<text text-anchor=\"middle\" x=\"1427.3922\" y=\"-101.3\" font-family=\"Times,serif\" font-size=\"14.00\" fill=\"#000000\">user_average_basket&lt;5.73214293</text>\n</g>\n<!-- 15&#45;&gt;28 -->\n<g id=\"edge24\" class=\"edge\">\n<title>15&#45;&gt;28</title>\n<path fill=\"none\" stroke=\"#ff0000\" d=\"M1427.3922,-173.9735C1427.3922,-162.1918 1427.3922,-146.5607 1427.3922,-133.1581\"/>\n<polygon fill=\"#ff0000\" stroke=\"#ff0000\" points=\"1430.8923,-133.0033 1427.3922,-123.0034 1423.8923,-133.0034 1430.8923,-133.0033\"/>\n<text text-anchor=\"middle\" x=\"1435.3922\" y=\"-144.8\" font-family=\"Times,serif\" font-size=\"14.00\" fill=\"#000000\">no</text>\n</g>\n<!-- 29 -->\n<g id=\"node30\" class=\"node\">\n<title>29</title>\n<ellipse fill=\"none\" stroke=\"#000000\" cx=\"1856.3922\" cy=\"-105\" rx=\"137.5759\" ry=\"18\"/>\n<text text-anchor=\"middle\" x=\"1856.3922\" y=\"-101.3\" font-family=\"Times,serif\" font-size=\"14.00\" fill=\"#000000\">prod_reorder_ratio&lt;0.709005356</text>\n</g>\n<!-- 16&#45;&gt;29 -->\n<g id=\"edge29\" class=\"edge\">\n<title>16&#45;&gt;29</title>\n<path fill=\"none\" stroke=\"#0000ff\" d=\"M1919.8161,-173.9735C1908.2314,-161.3752 1892.5995,-144.3755 1879.7536,-130.4055\"/>\n<polygon fill=\"#0000ff\" stroke=\"#0000ff\" points=\"1882.2921,-127.9953 1872.947,-123.0034 1877.1394,-132.7335 1882.2921,-127.9953\"/>\n<text text-anchor=\"middle\" x=\"1936.8922\" y=\"-144.8\" font-family=\"Times,serif\" font-size=\"14.00\" fill=\"#000000\">yes, missing</text>\n</g>\n<!-- 30 -->\n<g id=\"node31\" class=\"node\">\n<title>30</title>\n<ellipse fill=\"none\" stroke=\"#000000\" cx=\"2081.3922\" cy=\"-105\" rx=\"68.7879\" ry=\"18\"/>\n<text text-anchor=\"middle\" x=\"2081.3922\" y=\"-101.3\" font-family=\"Times,serif\" font-size=\"14.00\" fill=\"#000000\">user_orders&lt;21</text>\n</g>\n<!-- 16&#45;&gt;30 -->\n<g id=\"edge30\" class=\"edge\">\n<title>16&#45;&gt;30</title>\n<path fill=\"none\" stroke=\"#ff0000\" d=\"M1965.7351,-174.3943C1988.5826,-160.6857 2020.4207,-141.5829 2044.9094,-126.8897\"/>\n<polygon fill=\"#ff0000\" stroke=\"#ff0000\" points=\"2046.7946,-129.8403 2053.5688,-121.694 2043.1931,-123.8378 2046.7946,-129.8403\"/>\n<text text-anchor=\"middle\" x=\"2026.3922\" y=\"-144.8\" font-family=\"Times,serif\" font-size=\"14.00\" fill=\"#000000\">no</text>\n</g>\n<!-- 45 -->\n<g id=\"node26\" class=\"node\">\n<title>45</title>\n<ellipse fill=\"none\" stroke=\"#000000\" cx=\"891.3922\" cy=\"-18\" rx=\"85.2851\" ry=\"18\"/>\n<text text-anchor=\"middle\" x=\"891.3922\" y=\"-14.3\" font-family=\"Times,serif\" font-size=\"14.00\" fill=\"#000000\">leaf=0.0622529984</text>\n</g>\n<!-- 27&#45;&gt;45 -->\n<g id=\"edge25\" class=\"edge\">\n<title>27&#45;&gt;45</title>\n<path fill=\"none\" stroke=\"#0000ff\" d=\"M1048.1997,-87.6033C1016.238,-73.4163 971.0333,-53.3509 937.3657,-38.4066\"/>\n<polygon fill=\"#0000ff\" stroke=\"#0000ff\" points=\"938.7563,-35.1946 928.1962,-34.3365 935.9163,-41.5926 938.7563,-35.1946\"/>\n<text text-anchor=\"middle\" x=\"1010.8922\" y=\"-57.8\" font-family=\"Times,serif\" font-size=\"14.00\" fill=\"#000000\">yes</text>\n</g>\n<!-- 46 -->\n<g id=\"node27\" class=\"node\">\n<title>46</title>\n<ellipse fill=\"none\" stroke=\"#000000\" cx=\"1087.3922\" cy=\"-18\" rx=\"92.8835\" ry=\"18\"/>\n<text text-anchor=\"middle\" x=\"1087.3922\" y=\"-14.3\" font-family=\"Times,serif\" font-size=\"14.00\" fill=\"#000000\">leaf=&#45;0.00166216516</text>\n</g>\n<!-- 27&#45;&gt;46 -->\n<g id=\"edge26\" class=\"edge\">\n<title>27&#45;&gt;46</title>\n<path fill=\"none\" stroke=\"#ff0000\" d=\"M1087.3922,-86.9735C1087.3922,-75.1918 1087.3922,-59.5607 1087.3922,-46.1581\"/>\n<polygon fill=\"#ff0000\" stroke=\"#ff0000\" points=\"1090.8923,-46.0033 1087.3922,-36.0034 1083.8923,-46.0034 1090.8923,-46.0033\"/>\n<text text-anchor=\"middle\" x=\"1120.8922\" y=\"-57.8\" font-family=\"Times,serif\" font-size=\"14.00\" fill=\"#000000\">no, missing</text>\n</g>\n<!-- 47 -->\n<g id=\"node28\" class=\"node\">\n<title>47</title>\n<ellipse fill=\"none\" stroke=\"#000000\" cx=\"1283.3922\" cy=\"-18\" rx=\"85.2851\" ry=\"18\"/>\n<text text-anchor=\"middle\" x=\"1283.3922\" y=\"-14.3\" font-family=\"Times,serif\" font-size=\"14.00\" fill=\"#000000\">leaf=0.0173263196</text>\n</g>\n<!-- 28&#45;&gt;47 -->\n<g id=\"edge27\" class=\"edge\">\n<title>28&#45;&gt;47</title>\n<path fill=\"none\" stroke=\"#0000ff\" d=\"M1398.2516,-87.3943C1375.8544,-73.8626 1344.7576,-55.0749 1320.5683,-40.4606\"/>\n<polygon fill=\"#0000ff\" stroke=\"#0000ff\" points=\"1322.367,-37.4582 1311.9979,-35.2827 1318.7472,-43.4496 1322.367,-37.4582\"/>\n<text text-anchor=\"middle\" x=\"1399.8922\" y=\"-57.8\" font-family=\"Times,serif\" font-size=\"14.00\" fill=\"#000000\">yes, missing</text>\n</g>\n<!-- 48 -->\n<g id=\"node29\" class=\"node\">\n<title>48</title>\n<ellipse fill=\"none\" stroke=\"#000000\" cx=\"1475.3922\" cy=\"-18\" rx=\"88.2844\" ry=\"18\"/>\n<text text-anchor=\"middle\" x=\"1475.3922\" y=\"-14.3\" font-family=\"Times,serif\" font-size=\"14.00\" fill=\"#000000\">leaf=&#45;0.0382354632</text>\n</g>\n<!-- 28&#45;&gt;48 -->\n<g id=\"edge28\" class=\"edge\">\n<title>28&#45;&gt;48</title>\n<path fill=\"none\" stroke=\"#ff0000\" d=\"M1437.3378,-86.9735C1444.0312,-74.8418 1452.9763,-58.6287 1460.5122,-44.9698\"/>\n<polygon fill=\"#ff0000\" stroke=\"#ff0000\" points=\"1463.693,-46.4499 1465.4593,-36.0034 1457.5639,-43.0684 1463.693,-46.4499\"/>\n<text text-anchor=\"middle\" x=\"1462.3922\" y=\"-57.8\" font-family=\"Times,serif\" font-size=\"14.00\" fill=\"#000000\">no</text>\n</g>\n<!-- 49 -->\n<g id=\"node32\" class=\"node\">\n<title>49</title>\n<ellipse fill=\"none\" stroke=\"#000000\" cx=\"1672.3922\" cy=\"-18\" rx=\"90.1842\" ry=\"18\"/>\n<text text-anchor=\"middle\" x=\"1672.3922\" y=\"-14.3\" font-family=\"Times,serif\" font-size=\"14.00\" fill=\"#000000\">leaf=0.00586725725</text>\n</g>\n<!-- 29&#45;&gt;49 -->\n<g id=\"edge31\" class=\"edge\">\n<title>29&#45;&gt;49</title>\n<path fill=\"none\" stroke=\"#0000ff\" d=\"M1819.5992,-87.6033C1790.0409,-73.6274 1748.4176,-53.9468 1716.9692,-39.0772\"/>\n<polygon fill=\"#0000ff\" stroke=\"#0000ff\" points=\"1718.0971,-35.739 1707.5606,-34.6286 1715.1049,-42.0673 1718.0971,-35.739\"/>\n<text text-anchor=\"middle\" x=\"1811.8922\" y=\"-57.8\" font-family=\"Times,serif\" font-size=\"14.00\" fill=\"#000000\">yes, missing</text>\n</g>\n<!-- 50 -->\n<g id=\"node33\" class=\"node\">\n<title>50</title>\n<ellipse fill=\"none\" stroke=\"#000000\" cx=\"1869.3922\" cy=\"-18\" rx=\"88.2844\" ry=\"18\"/>\n<text text-anchor=\"middle\" x=\"1869.3922\" y=\"-14.3\" font-family=\"Times,serif\" font-size=\"14.00\" fill=\"#000000\">leaf=&#45;0.0468840003</text>\n</g>\n<!-- 29&#45;&gt;50 -->\n<g id=\"edge32\" class=\"edge\">\n<title>29&#45;&gt;50</title>\n<path fill=\"none\" stroke=\"#ff0000\" d=\"M1859.0858,-86.9735C1860.8463,-75.1918 1863.1819,-59.5607 1865.1846,-46.1581\"/>\n<polygon fill=\"#ff0000\" stroke=\"#ff0000\" points=\"1868.6856,-46.4108 1866.702,-36.0034 1861.7625,-45.3763 1868.6856,-46.4108\"/>\n<text text-anchor=\"middle\" x=\"1872.3922\" y=\"-57.8\" font-family=\"Times,serif\" font-size=\"14.00\" fill=\"#000000\">no</text>\n</g>\n<!-- 51 -->\n<g id=\"node34\" class=\"node\">\n<title>51</title>\n<ellipse fill=\"none\" stroke=\"#000000\" cx=\"2068.3922\" cy=\"-18\" rx=\"92.8835\" ry=\"18\"/>\n<text text-anchor=\"middle\" x=\"2068.3922\" y=\"-14.3\" font-family=\"Times,serif\" font-size=\"14.00\" fill=\"#000000\">leaf=&#45;0.00887671765</text>\n</g>\n<!-- 30&#45;&gt;51 -->\n<g id=\"edge33\" class=\"edge\">\n<title>30&#45;&gt;51</title>\n<path fill=\"none\" stroke=\"#0000ff\" d=\"M2078.6985,-86.9735C2076.9381,-75.1918 2074.6024,-59.5607 2072.5997,-46.1581\"/>\n<polygon fill=\"#0000ff\" stroke=\"#0000ff\" points=\"2076.0218,-45.3763 2071.0823,-36.0034 2069.0987,-46.4108 2076.0218,-45.3763\"/>\n<text text-anchor=\"middle\" x=\"2111.8922\" y=\"-57.8\" font-family=\"Times,serif\" font-size=\"14.00\" fill=\"#000000\">yes, missing</text>\n</g>\n<!-- 52 -->\n<g id=\"node35\" class=\"node\">\n<title>52</title>\n<ellipse fill=\"none\" stroke=\"#000000\" cx=\"2267.3922\" cy=\"-18\" rx=\"88.2844\" ry=\"18\"/>\n<text text-anchor=\"middle\" x=\"2267.3922\" y=\"-14.3\" font-family=\"Times,serif\" font-size=\"14.00\" fill=\"#000000\">leaf=&#45;0.0306061395</text>\n</g>\n<!-- 30&#45;&gt;52 -->\n<g id=\"edge34\" class=\"edge\">\n<title>30&#45;&gt;52</title>\n<path fill=\"none\" stroke=\"#ff0000\" d=\"M2115.0754,-89.245C2145.1845,-75.1616 2189.5302,-54.4193 2222.6171,-38.9432\"/>\n<polygon fill=\"#ff0000\" stroke=\"#ff0000\" points=\"2224.4865,-41.9328 2232.0617,-34.5255 2221.5207,-35.5921 2224.4865,-41.9328\"/>\n<text text-anchor=\"middle\" x=\"2194.3922\" y=\"-57.8\" font-family=\"Times,serif\" font-size=\"14.00\" fill=\"#000000\">no</text>\n</g>\n<!-- 31 -->\n<g id=\"node38\" class=\"node\">\n<title>31</title>\n<ellipse fill=\"none\" stroke=\"#000000\" cx=\"2539.3922\" cy=\"-105\" rx=\"98.5829\" ry=\"18\"/>\n<text text-anchor=\"middle\" x=\"2539.3922\" y=\"-101.3\" font-family=\"Times,serif\" font-size=\"14.00\" fill=\"#000000\">user_total_products&lt;26</text>\n</g>\n<!-- 17&#45;&gt;31 -->\n<g id=\"edge37\" class=\"edge\">\n<title>17&#45;&gt;31</title>\n<path fill=\"none\" stroke=\"#0000ff\" d=\"M2539.3922,-173.9735C2539.3922,-162.1918 2539.3922,-146.5607 2539.3922,-133.1581\"/>\n<polygon fill=\"#0000ff\" stroke=\"#0000ff\" points=\"2542.8923,-133.0033 2539.3922,-123.0034 2535.8923,-133.0034 2542.8923,-133.0033\"/>\n<text text-anchor=\"middle\" x=\"2574.8922\" y=\"-144.8\" font-family=\"Times,serif\" font-size=\"14.00\" fill=\"#000000\">yes, missing</text>\n</g>\n<!-- 32 -->\n<g id=\"node39\" class=\"node\">\n<title>32</title>\n<ellipse fill=\"none\" stroke=\"#000000\" cx=\"2846.3922\" cy=\"-105\" rx=\"109.6807\" ry=\"18\"/>\n<text text-anchor=\"middle\" x=\"2846.3922\" y=\"-101.3\" font-family=\"Times,serif\" font-size=\"14.00\" fill=\"#000000\">user_distinct_products&lt;38</text>\n</g>\n<!-- 17&#45;&gt;32 -->\n<g id=\"edge38\" class=\"edge\">\n<title>17&#45;&gt;32</title>\n<path fill=\"none\" stroke=\"#ff0000\" d=\"M2598.9489,-175.1224C2651.3957,-160.2596 2727.6166,-138.6595 2781.5791,-123.3672\"/>\n<polygon fill=\"#ff0000\" stroke=\"#ff0000\" points=\"2782.7184,-126.6822 2791.3853,-120.5883 2780.8098,-119.9475 2782.7184,-126.6822\"/>\n<text text-anchor=\"middle\" x=\"2719.3922\" y=\"-144.8\" font-family=\"Times,serif\" font-size=\"14.00\" fill=\"#000000\">no</text>\n</g>\n<!-- 53 -->\n<g id=\"node40\" class=\"node\">\n<title>53</title>\n<ellipse fill=\"none\" stroke=\"#000000\" cx=\"2459.3922\" cy=\"-18\" rx=\"85.2851\" ry=\"18\"/>\n<text text-anchor=\"middle\" x=\"2459.3922\" y=\"-14.3\" font-family=\"Times,serif\" font-size=\"14.00\" fill=\"#000000\">leaf=0.0350858197</text>\n</g>\n<!-- 31&#45;&gt;53 -->\n<g id=\"edge39\" class=\"edge\">\n<title>31&#45;&gt;53</title>\n<path fill=\"none\" stroke=\"#0000ff\" d=\"M2522.8161,-86.9735C2511.1542,-74.2912 2495.3909,-57.1486 2482.497,-43.1265\"/>\n<polygon fill=\"#0000ff\" stroke=\"#0000ff\" points=\"2485.0184,-40.6976 2475.6733,-35.7057 2479.8657,-45.4358 2485.0184,-40.6976\"/>\n<text text-anchor=\"middle\" x=\"2539.8922\" y=\"-57.8\" font-family=\"Times,serif\" font-size=\"14.00\" fill=\"#000000\">yes, missing</text>\n</g>\n<!-- 54 -->\n<g id=\"node41\" class=\"node\">\n<title>54</title>\n<ellipse fill=\"none\" stroke=\"#000000\" cx=\"2651.3922\" cy=\"-18\" rx=\"88.2844\" ry=\"18\"/>\n<text text-anchor=\"middle\" x=\"2651.3922\" y=\"-14.3\" font-family=\"Times,serif\" font-size=\"14.00\" fill=\"#000000\">leaf=&#45;0.0222719796</text>\n</g>\n<!-- 31&#45;&gt;54 -->\n<g id=\"edge40\" class=\"edge\">\n<title>31&#45;&gt;54</title>\n<path fill=\"none\" stroke=\"#ff0000\" d=\"M2562.057,-87.3943C2578.9078,-74.3048 2602.0899,-56.2973 2620.6161,-41.9064\"/>\n<polygon fill=\"#ff0000\" stroke=\"#ff0000\" points=\"2623.0108,-44.4782 2628.761,-35.5796 2618.7166,-38.9501 2623.0108,-44.4782\"/>\n<text text-anchor=\"middle\" x=\"2610.3922\" y=\"-57.8\" font-family=\"Times,serif\" font-size=\"14.00\" fill=\"#000000\">no</text>\n</g>\n<!-- 55 -->\n<g id=\"node42\" class=\"node\">\n<title>55</title>\n<ellipse fill=\"none\" stroke=\"#000000\" cx=\"2846.3922\" cy=\"-18\" rx=\"88.2844\" ry=\"18\"/>\n<text text-anchor=\"middle\" x=\"2846.3922\" y=\"-14.3\" font-family=\"Times,serif\" font-size=\"14.00\" fill=\"#000000\">leaf=&#45;0.0261814725</text>\n</g>\n<!-- 32&#45;&gt;55 -->\n<g id=\"edge41\" class=\"edge\">\n<title>32&#45;&gt;55</title>\n<path fill=\"none\" stroke=\"#0000ff\" d=\"M2846.3922,-86.9735C2846.3922,-75.1918 2846.3922,-59.5607 2846.3922,-46.1581\"/>\n<polygon fill=\"#0000ff\" stroke=\"#0000ff\" points=\"2849.8923,-46.0033 2846.3922,-36.0034 2842.8923,-46.0034 2849.8923,-46.0033\"/>\n<text text-anchor=\"middle\" x=\"2881.8922\" y=\"-57.8\" font-family=\"Times,serif\" font-size=\"14.00\" fill=\"#000000\">yes, missing</text>\n</g>\n<!-- 56 -->\n<g id=\"node43\" class=\"node\">\n<title>56</title>\n<ellipse fill=\"none\" stroke=\"#000000\" cx=\"3041.3922\" cy=\"-18\" rx=\"88.2844\" ry=\"18\"/>\n<text text-anchor=\"middle\" x=\"3041.3922\" y=\"-14.3\" font-family=\"Times,serif\" font-size=\"14.00\" fill=\"#000000\">leaf=&#45;0.0890149698</text>\n</g>\n<!-- 32&#45;&gt;56 -->\n<g id=\"edge42\" class=\"edge\">\n<title>32&#45;&gt;56</title>\n<path fill=\"none\" stroke=\"#ff0000\" d=\"M2884.453,-88.019C2916.1637,-73.8712 2961.439,-53.6714 2995.2178,-38.6009\"/>\n<polygon fill=\"#ff0000\" stroke=\"#ff0000\" points=\"2996.7132,-41.7663 3004.4194,-34.4955 2993.8611,-35.3737 2996.7132,-41.7663\"/>\n<text text-anchor=\"middle\" x=\"2964.3922\" y=\"-57.8\" font-family=\"Times,serif\" font-size=\"14.00\" fill=\"#000000\">no</text>\n</g>\n<!-- 19 -->\n<g id=\"node46\" class=\"node\">\n<title>19</title>\n<ellipse fill=\"none\" stroke=\"#000000\" cx=\"3254.3922\" cy=\"-192\" rx=\"135.6761\" ry=\"18\"/>\n<text text-anchor=\"middle\" x=\"3254.3922\" y=\"-188.3\" font-family=\"Times,serif\" font-size=\"14.00\" fill=\"#000000\">prod_reorder_times&lt;1.77178025</text>\n</g>\n<!-- 11&#45;&gt;19 -->\n<g id=\"edge45\" class=\"edge\">\n<title>11&#45;&gt;19</title>\n<path fill=\"none\" stroke=\"#0000ff\" d=\"M3366.5185,-261.1843C3344.9429,-247.8717 3315.2637,-229.559 3291.8598,-215.1183\"/>\n<polygon fill=\"#0000ff\" stroke=\"#0000ff\" points=\"3293.5755,-212.0644 3283.2272,-209.7919 3289.8997,-218.0216 3293.5755,-212.0644\"/>\n<text text-anchor=\"middle\" x=\"3368.8922\" y=\"-231.8\" font-family=\"Times,serif\" font-size=\"14.00\" fill=\"#000000\">yes, missing</text>\n</g>\n<!-- 20 -->\n<g id=\"node47\" class=\"node\">\n<title>20</title>\n<ellipse fill=\"none\" stroke=\"#000000\" cx=\"3599.3922\" cy=\"-192\" rx=\"191.1661\" ry=\"18\"/>\n<text text-anchor=\"middle\" x=\"3599.3922\" y=\"-188.3\" font-family=\"Times,serif\" font-size=\"14.00\" fill=\"#000000\">up_order_rate_since_first_order&lt;0.0339080468</text>\n</g>\n<!-- 11&#45;&gt;20 -->\n<g id=\"edge46\" class=\"edge\">\n<title>11&#45;&gt;20</title>\n<path fill=\"none\" stroke=\"#ff0000\" d=\"M3436.1843,-261.6033C3468.494,-247.8242 3513.806,-228.5 3548.4902,-213.7082\"/>\n<polygon fill=\"#ff0000\" stroke=\"#ff0000\" points=\"3550.146,-216.8071 3557.9715,-209.6647 3547.4,-210.3682 3550.146,-216.8071\"/>\n<text text-anchor=\"middle\" x=\"3518.3922\" y=\"-231.8\" font-family=\"Times,serif\" font-size=\"14.00\" fill=\"#000000\">no</text>\n</g>\n<!-- 21 -->\n<g id=\"node56\" class=\"node\">\n<title>21</title>\n<ellipse fill=\"none\" stroke=\"#000000\" cx=\"4307.3922\" cy=\"-192\" rx=\"143.7746\" ry=\"18\"/>\n<text text-anchor=\"middle\" x=\"4307.3922\" y=\"-188.3\" font-family=\"Times,serif\" font-size=\"14.00\" fill=\"#000000\">user_average_basket&lt;0.127932355</text>\n</g>\n<!-- 12&#45;&gt;21 -->\n<g id=\"edge55\" class=\"edge\">\n<title>12&#45;&gt;21</title>\n<path fill=\"none\" stroke=\"#0000ff\" d=\"M4307.3922,-260.9735C4307.3922,-249.1918 4307.3922,-233.5607 4307.3922,-220.1581\"/>\n<polygon fill=\"#0000ff\" stroke=\"#0000ff\" points=\"4310.8923,-220.0033 4307.3922,-210.0034 4303.8923,-220.0034 4310.8923,-220.0033\"/>\n<text text-anchor=\"middle\" x=\"4342.8922\" y=\"-231.8\" font-family=\"Times,serif\" font-size=\"14.00\" fill=\"#000000\">yes, missing</text>\n</g>\n<!-- 22 -->\n<g id=\"node57\" class=\"node\">\n<title>22</title>\n<ellipse fill=\"none\" stroke=\"#000000\" cx=\"4868.3922\" cy=\"-192\" rx=\"165.9709\" ry=\"18\"/>\n<text text-anchor=\"middle\" x=\"4868.3922\" y=\"-188.3\" font-family=\"Times,serif\" font-size=\"14.00\" fill=\"#000000\">user_mean_days_since_prior&lt;10.546875</text>\n</g>\n<!-- 12&#45;&gt;22 -->\n<g id=\"edge56\" class=\"edge\">\n<title>12&#45;&gt;22</title>\n<path fill=\"none\" stroke=\"#ff0000\" d=\"M4387.174,-266.6274C4485.7384,-251.342 4653.7387,-225.2885 4762.8823,-208.3625\"/>\n<polygon fill=\"#ff0000\" stroke=\"#ff0000\" points=\"4763.5828,-211.7958 4772.9283,-206.8046 4762.51,-204.8785 4763.5828,-211.7958\"/>\n<text text-anchor=\"middle\" x=\"4630.3922\" y=\"-231.8\" font-family=\"Times,serif\" font-size=\"14.00\" fill=\"#000000\">no</text>\n</g>\n<!-- 33 -->\n<g id=\"node48\" class=\"node\">\n<title>33</title>\n<ellipse fill=\"none\" stroke=\"#000000\" cx=\"3071.3922\" cy=\"-105\" rx=\"85.2851\" ry=\"18\"/>\n<text text-anchor=\"middle\" x=\"3071.3922\" y=\"-101.3\" font-family=\"Times,serif\" font-size=\"14.00\" fill=\"#000000\">leaf=0.0474171601</text>\n</g>\n<!-- 19&#45;&gt;33 -->\n<g id=\"edge47\" class=\"edge\">\n<title>19&#45;&gt;33</title>\n<path fill=\"none\" stroke=\"#0000ff\" d=\"M3217.7992,-174.6033C3188.307,-160.5825 3146.7381,-140.8202 3115.4256,-125.9339\"/>\n<polygon fill=\"#0000ff\" stroke=\"#0000ff\" points=\"3116.596,-122.615 3106.0619,-121.4823 3113.5904,-128.9369 3116.596,-122.615\"/>\n<text text-anchor=\"middle\" x=\"3209.8922\" y=\"-144.8\" font-family=\"Times,serif\" font-size=\"14.00\" fill=\"#000000\">yes, missing</text>\n</g>\n<!-- 34 -->\n<g id=\"node49\" class=\"node\">\n<title>34</title>\n<ellipse fill=\"none\" stroke=\"#000000\" cx=\"3310.3922\" cy=\"-105\" rx=\"135.6761\" ry=\"18\"/>\n<text text-anchor=\"middle\" x=\"3310.3922\" y=\"-101.3\" font-family=\"Times,serif\" font-size=\"14.00\" fill=\"#000000\">prod_reorder_times&lt;1.88675213</text>\n</g>\n<!-- 19&#45;&gt;34 -->\n<g id=\"edge48\" class=\"edge\">\n<title>19&#45;&gt;34</title>\n<path fill=\"none\" stroke=\"#ff0000\" d=\"M3265.9954,-173.9735C3273.8794,-161.7252 3284.4413,-145.3165 3293.2854,-131.5766\"/>\n<polygon fill=\"#ff0000\" stroke=\"#ff0000\" points=\"3296.3343,-133.3064 3298.8038,-123.0034 3290.4482,-129.5176 3296.3343,-133.3064\"/>\n<text text-anchor=\"middle\" x=\"3294.3922\" y=\"-144.8\" font-family=\"Times,serif\" font-size=\"14.00\" fill=\"#000000\">no</text>\n</g>\n<!-- 35 -->\n<g id=\"node52\" class=\"node\">\n<title>35</title>\n<ellipse fill=\"none\" stroke=\"#000000\" cx=\"3580.3922\" cy=\"-105\" rx=\"92.0841\" ry=\"18\"/>\n<text text-anchor=\"middle\" x=\"3580.3922\" y=\"-101.3\" font-family=\"Times,serif\" font-size=\"14.00\" fill=\"#000000\">leaf=3.51750568e&#45;05</text>\n</g>\n<!-- 20&#45;&gt;35 -->\n<g id=\"edge51\" class=\"edge\">\n<title>20&#45;&gt;35</title>\n<path fill=\"none\" stroke=\"#0000ff\" d=\"M3595.4553,-173.9735C3592.8823,-162.1918 3589.4686,-146.5607 3586.5416,-133.1581\"/>\n<polygon fill=\"#0000ff\" stroke=\"#0000ff\" points=\"3589.877,-132.0263 3584.3239,-123.0034 3583.0382,-133.5199 3589.877,-132.0263\"/>\n<text text-anchor=\"middle\" x=\"3626.8922\" y=\"-144.8\" font-family=\"Times,serif\" font-size=\"14.00\" fill=\"#000000\">yes, missing</text>\n</g>\n<!-- 36 -->\n<g id=\"node53\" class=\"node\">\n<title>36</title>\n<ellipse fill=\"none\" stroke=\"#000000\" cx=\"3807.3922\" cy=\"-105\" rx=\"116.1796\" ry=\"18\"/>\n<text text-anchor=\"middle\" x=\"3807.3922\" y=\"-101.3\" font-family=\"Times,serif\" font-size=\"14.00\" fill=\"#000000\">days_since_prior_order&lt;7.5</text>\n</g>\n<!-- 20&#45;&gt;36 -->\n<g id=\"edge52\" class=\"edge\">\n<title>20&#45;&gt;36</title>\n<path fill=\"none\" stroke=\"#ff0000\" d=\"M3641.4841,-174.3943C3674.9039,-160.4158 3721.7336,-140.8283 3757.1213,-126.0267\"/>\n<polygon fill=\"#ff0000\" stroke=\"#ff0000\" points=\"3758.9035,-129.0752 3766.7784,-121.9875 3756.2023,-122.6173 3758.9035,-129.0752\"/>\n<text text-anchor=\"middle\" x=\"3724.3922\" y=\"-144.8\" font-family=\"Times,serif\" font-size=\"14.00\" fill=\"#000000\">no</text>\n</g>\n<!-- 57 -->\n<g id=\"node50\" class=\"node\">\n<title>57</title>\n<ellipse fill=\"none\" stroke=\"#000000\" cx=\"3236.3922\" cy=\"-18\" rx=\"88.2844\" ry=\"18\"/>\n<text text-anchor=\"middle\" x=\"3236.3922\" y=\"-14.3\" font-family=\"Times,serif\" font-size=\"14.00\" fill=\"#000000\">leaf=&#45;0.0690686405</text>\n</g>\n<!-- 34&#45;&gt;57 -->\n<g id=\"edge49\" class=\"edge\">\n<title>34&#45;&gt;57</title>\n<path fill=\"none\" stroke=\"#0000ff\" d=\"M3295.0593,-86.9735C3284.4427,-74.4919 3270.1514,-57.6899 3258.3322,-43.7944\"/>\n<polygon fill=\"#0000ff\" stroke=\"#0000ff\" points=\"3260.8505,-41.3529 3251.7054,-36.0034 3255.5184,-45.8883 3260.8505,-41.3529\"/>\n<text text-anchor=\"middle\" x=\"3313.8922\" y=\"-57.8\" font-family=\"Times,serif\" font-size=\"14.00\" fill=\"#000000\">yes, missing</text>\n</g>\n<!-- 58 -->\n<g id=\"node51\" class=\"node\">\n<title>58</title>\n<ellipse fill=\"none\" stroke=\"#000000\" cx=\"3435.3922\" cy=\"-18\" rx=\"92.8835\" ry=\"18\"/>\n<text text-anchor=\"middle\" x=\"3435.3922\" y=\"-14.3\" font-family=\"Times,serif\" font-size=\"14.00\" fill=\"#000000\">leaf=&#45;0.00299130729</text>\n</g>\n<!-- 34&#45;&gt;58 -->\n<g id=\"edge50\" class=\"edge\">\n<title>34&#45;&gt;58</title>\n<path fill=\"none\" stroke=\"#ff0000\" d=\"M3335.9894,-87.1843C3355.0737,-73.9017 3381.3098,-55.6413 3402.0363,-41.2157\"/>\n<polygon fill=\"#ff0000\" stroke=\"#ff0000\" points=\"3404.048,-44.0799 3410.2563,-35.4946 3400.0491,-38.3345 3404.048,-44.0799\"/>\n<text text-anchor=\"middle\" x=\"3388.3922\" y=\"-57.8\" font-family=\"Times,serif\" font-size=\"14.00\" fill=\"#000000\">no</text>\n</g>\n<!-- 59 -->\n<g id=\"node54\" class=\"node\">\n<title>59</title>\n<ellipse fill=\"none\" stroke=\"#000000\" cx=\"3631.3922\" cy=\"-18\" rx=\"85.2851\" ry=\"18\"/>\n<text text-anchor=\"middle\" x=\"3631.3922\" y=\"-14.3\" font-family=\"Times,serif\" font-size=\"14.00\" fill=\"#000000\">leaf=0.0451952666</text>\n</g>\n<!-- 36&#45;&gt;59 -->\n<g id=\"edge53\" class=\"edge\">\n<title>36&#45;&gt;59</title>\n<path fill=\"none\" stroke=\"#0000ff\" d=\"M3772.6202,-87.8116C3744.2945,-73.8097 3704.1832,-53.9819 3673.942,-39.0332\"/>\n<polygon fill=\"#0000ff\" stroke=\"#0000ff\" points=\"3675.4133,-35.8562 3664.8977,-34.5624 3672.3113,-42.1314 3675.4133,-35.8562\"/>\n<text text-anchor=\"middle\" x=\"3765.8922\" y=\"-57.8\" font-family=\"Times,serif\" font-size=\"14.00\" fill=\"#000000\">yes, missing</text>\n</g>\n<!-- 60 -->\n<g id=\"node55\" class=\"node\">\n<title>60</title>\n<ellipse fill=\"none\" stroke=\"#000000\" cx=\"3819.3922\" cy=\"-18\" rx=\"85.2851\" ry=\"18\"/>\n<text text-anchor=\"middle\" x=\"3819.3922\" y=\"-14.3\" font-family=\"Times,serif\" font-size=\"14.00\" fill=\"#000000\">leaf=0.0977623388</text>\n</g>\n<!-- 36&#45;&gt;60 -->\n<g id=\"edge54\" class=\"edge\">\n<title>36&#45;&gt;60</title>\n<path fill=\"none\" stroke=\"#ff0000\" d=\"M3809.8786,-86.9735C3811.5036,-75.1918 3813.6597,-59.5607 3815.5083,-46.1581\"/>\n<polygon fill=\"#ff0000\" stroke=\"#ff0000\" points=\"3819.0097,-46.3878 3816.9089,-36.0034 3812.0753,-45.4313 3819.0097,-46.3878\"/>\n<text text-anchor=\"middle\" x=\"3822.3922\" y=\"-57.8\" font-family=\"Times,serif\" font-size=\"14.00\" fill=\"#000000\">no</text>\n</g>\n<!-- 37 -->\n<g id=\"node58\" class=\"node\">\n<title>37</title>\n<ellipse fill=\"none\" stroke=\"#000000\" cx=\"4208.3922\" cy=\"-105\" rx=\"76.0865\" ry=\"18\"/>\n<text text-anchor=\"middle\" x=\"4208.3922\" y=\"-101.3\" font-family=\"Times,serif\" font-size=\"14.00\" fill=\"#000000\">prod_orders&lt;369</text>\n</g>\n<!-- 21&#45;&gt;37 -->\n<g id=\"edge57\" class=\"edge\">\n<title>21&#45;&gt;37</title>\n<path fill=\"none\" stroke=\"#0000ff\" d=\"M4284.2016,-174.0431C4277.1028,-168.3883 4269.3377,-162.0401 4262.3922,-156 4252.9095,-147.7535 4242.8212,-138.3949 4233.9624,-129.9659\"/>\n<polygon fill=\"#0000ff\" stroke=\"#0000ff\" points=\"4236.1805,-127.2437 4226.5401,-122.8492 4231.3359,-132.2964 4236.1805,-127.2437\"/>\n<text text-anchor=\"middle\" x=\"4297.8922\" y=\"-144.8\" font-family=\"Times,serif\" font-size=\"14.00\" fill=\"#000000\">yes, missing</text>\n</g>\n<!-- 38 -->\n<g id=\"node59\" class=\"node\">\n<title>38</title>\n<ellipse fill=\"none\" stroke=\"#000000\" cx=\"4407.3922\" cy=\"-105\" rx=\"98.5829\" ry=\"18\"/>\n<text text-anchor=\"middle\" x=\"4407.3922\" y=\"-101.3\" font-family=\"Times,serif\" font-size=\"14.00\" fill=\"#000000\">user_total_products&lt;60</text>\n</g>\n<!-- 21&#45;&gt;38 -->\n<g id=\"edge58\" class=\"edge\">\n<title>21&#45;&gt;38</title>\n<path fill=\"none\" stroke=\"#ff0000\" d=\"M4328.1122,-173.9735C4342.9595,-161.0564 4363.1253,-143.5122 4379.4027,-129.3508\"/>\n<polygon fill=\"#ff0000\" stroke=\"#ff0000\" points=\"4381.7936,-131.9099 4387.0408,-122.7057 4377.199,-126.6288 4381.7936,-131.9099\"/>\n<text text-anchor=\"middle\" x=\"4371.3922\" y=\"-144.8\" font-family=\"Times,serif\" font-size=\"14.00\" fill=\"#000000\">no</text>\n</g>\n<!-- 39 -->\n<g id=\"node64\" class=\"node\">\n<title>39</title>\n<ellipse fill=\"none\" stroke=\"#000000\" cx=\"4868.3922\" cy=\"-105\" rx=\"135.3763\" ry=\"18\"/>\n<text text-anchor=\"middle\" x=\"4868.3922\" y=\"-101.3\" font-family=\"Times,serif\" font-size=\"14.00\" fill=\"#000000\">user_reorder_ratio&lt;0.573437154</text>\n</g>\n<!-- 22&#45;&gt;39 -->\n<g id=\"edge63\" class=\"edge\">\n<title>22&#45;&gt;39</title>\n<path fill=\"none\" stroke=\"#0000ff\" d=\"M4868.3922,-173.9735C4868.3922,-162.1918 4868.3922,-146.5607 4868.3922,-133.1581\"/>\n<polygon fill=\"#0000ff\" stroke=\"#0000ff\" points=\"4871.8923,-133.0033 4868.3922,-123.0034 4864.8923,-133.0034 4871.8923,-133.0033\"/>\n<text text-anchor=\"middle\" x=\"4903.8922\" y=\"-144.8\" font-family=\"Times,serif\" font-size=\"14.00\" fill=\"#000000\">yes, missing</text>\n</g>\n<!-- 40 -->\n<g id=\"node65\" class=\"node\">\n<title>40</title>\n<ellipse fill=\"none\" stroke=\"#000000\" cx=\"5177.3922\" cy=\"-105\" rx=\"79.0865\" ry=\"18\"/>\n<text text-anchor=\"middle\" x=\"5177.3922\" y=\"-101.3\" font-family=\"Times,serif\" font-size=\"14.00\" fill=\"#000000\">up_first_order&lt;10</text>\n</g>\n<!-- 22&#45;&gt;40 -->\n<g id=\"edge64\" class=\"edge\">\n<title>22&#45;&gt;40</title>\n<path fill=\"none\" stroke=\"#ff0000\" d=\"M4928.3369,-175.1224C4982.8602,-159.7711 5062.9111,-137.2325 5117.4375,-121.8804\"/>\n<polygon fill=\"#ff0000\" stroke=\"#ff0000\" points=\"5118.6327,-125.1801 5127.3098,-119.1008 5116.7355,-118.4421 5118.6327,-125.1801\"/>\n<text text-anchor=\"middle\" x=\"5050.3922\" y=\"-144.8\" font-family=\"Times,serif\" font-size=\"14.00\" fill=\"#000000\">no</text>\n</g>\n<!-- 61 -->\n<g id=\"node60\" class=\"node\">\n<title>61</title>\n<ellipse fill=\"none\" stroke=\"#000000\" cx=\"4011.3922\" cy=\"-18\" rx=\"88.2844\" ry=\"18\"/>\n<text text-anchor=\"middle\" x=\"4011.3922\" y=\"-14.3\" font-family=\"Times,serif\" font-size=\"14.00\" fill=\"#000000\">leaf=&#45;0.0509262867</text>\n</g>\n<!-- 37&#45;&gt;61 -->\n<g id=\"edge59\" class=\"edge\">\n<title>37&#45;&gt;61</title>\n<path fill=\"none\" stroke=\"#0000ff\" d=\"M4172.2593,-89.0429C4140.175,-74.8736 4093.0932,-54.0812 4058.1468,-38.648\"/>\n<polygon fill=\"#0000ff\" stroke=\"#0000ff\" points=\"4059.1961,-35.2853 4048.6345,-34.4471 4056.3682,-41.6887 4059.1961,-35.2853\"/>\n<text text-anchor=\"middle\" x=\"4157.8922\" y=\"-57.8\" font-family=\"Times,serif\" font-size=\"14.00\" fill=\"#000000\">yes, missing</text>\n</g>\n<!-- 62 -->\n<g id=\"node61\" class=\"node\">\n<title>62</title>\n<ellipse fill=\"none\" stroke=\"#000000\" cx=\"4208.3922\" cy=\"-18\" rx=\"90.1842\" ry=\"18\"/>\n<text text-anchor=\"middle\" x=\"4208.3922\" y=\"-14.3\" font-family=\"Times,serif\" font-size=\"14.00\" fill=\"#000000\">leaf=0.00499679102</text>\n</g>\n<!-- 37&#45;&gt;62 -->\n<g id=\"edge60\" class=\"edge\">\n<title>37&#45;&gt;62</title>\n<path fill=\"none\" stroke=\"#ff0000\" d=\"M4208.3922,-86.9735C4208.3922,-75.1918 4208.3922,-59.5607 4208.3922,-46.1581\"/>\n<polygon fill=\"#ff0000\" stroke=\"#ff0000\" points=\"4211.8923,-46.0033 4208.3922,-36.0034 4204.8923,-46.0034 4211.8923,-46.0033\"/>\n<text text-anchor=\"middle\" x=\"4216.3922\" y=\"-57.8\" font-family=\"Times,serif\" font-size=\"14.00\" fill=\"#000000\">no</text>\n</g>\n<!-- 63 -->\n<g id=\"node62\" class=\"node\">\n<title>63</title>\n<ellipse fill=\"none\" stroke=\"#000000\" cx=\"4407.3922\" cy=\"-18\" rx=\"90.1842\" ry=\"18\"/>\n<text text-anchor=\"middle\" x=\"4407.3922\" y=\"-14.3\" font-family=\"Times,serif\" font-size=\"14.00\" fill=\"#000000\">leaf=0.00109301636</text>\n</g>\n<!-- 38&#45;&gt;63 -->\n<g id=\"edge61\" class=\"edge\">\n<title>38&#45;&gt;63</title>\n<path fill=\"none\" stroke=\"#0000ff\" d=\"M4407.3922,-86.9735C4407.3922,-75.1918 4407.3922,-59.5607 4407.3922,-46.1581\"/>\n<polygon fill=\"#0000ff\" stroke=\"#0000ff\" points=\"4410.8923,-46.0033 4407.3922,-36.0034 4403.8923,-46.0034 4410.8923,-46.0033\"/>\n<text text-anchor=\"middle\" x=\"4442.8922\" y=\"-57.8\" font-family=\"Times,serif\" font-size=\"14.00\" fill=\"#000000\">yes, missing</text>\n</g>\n<!-- 64 -->\n<g id=\"node63\" class=\"node\">\n<title>64</title>\n<ellipse fill=\"none\" stroke=\"#000000\" cx=\"4604.3922\" cy=\"-18\" rx=\"88.2844\" ry=\"18\"/>\n<text text-anchor=\"middle\" x=\"4604.3922\" y=\"-14.3\" font-family=\"Times,serif\" font-size=\"14.00\" fill=\"#000000\">leaf=&#45;0.0156217283</text>\n</g>\n<!-- 38&#45;&gt;64 -->\n<g id=\"edge62\" class=\"edge\">\n<title>38&#45;&gt;64</title>\n<path fill=\"none\" stroke=\"#ff0000\" d=\"M4445.3757,-88.2255C4477.4665,-74.0535 4523.549,-53.7023 4557.8519,-38.5533\"/>\n<polygon fill=\"#ff0000\" stroke=\"#ff0000\" points=\"4559.4596,-41.6695 4567.1933,-34.4279 4556.6316,-35.2661 4559.4596,-41.6695\"/>\n<text text-anchor=\"middle\" x=\"4526.3922\" y=\"-57.8\" font-family=\"Times,serif\" font-size=\"14.00\" fill=\"#000000\">no</text>\n</g>\n<!-- 65 -->\n<g id=\"node66\" class=\"node\">\n<title>65</title>\n<ellipse fill=\"none\" stroke=\"#000000\" cx=\"4796.3922\" cy=\"-18\" rx=\"85.2851\" ry=\"18\"/>\n<text text-anchor=\"middle\" x=\"4796.3922\" y=\"-14.3\" font-family=\"Times,serif\" font-size=\"14.00\" fill=\"#000000\">leaf=0.0855041891</text>\n</g>\n<!-- 39&#45;&gt;65 -->\n<g id=\"edge65\" class=\"edge\">\n<title>39&#45;&gt;65</title>\n<path fill=\"none\" stroke=\"#0000ff\" d=\"M4853.4737,-86.9735C4843.144,-74.4919 4829.239,-57.6899 4817.7392,-43.7944\"/>\n<polygon fill=\"#0000ff\" stroke=\"#0000ff\" points=\"4820.3636,-41.4758 4811.2915,-36.0034 4814.9708,-45.9388 4820.3636,-41.4758\"/>\n<text text-anchor=\"middle\" x=\"4846.8922\" y=\"-57.8\" font-family=\"Times,serif\" font-size=\"14.00\" fill=\"#000000\">yes</text>\n</g>\n<!-- 66 -->\n<g id=\"node67\" class=\"node\">\n<title>66</title>\n<ellipse fill=\"none\" stroke=\"#000000\" cx=\"4984.3922\" cy=\"-18\" rx=\"85.2851\" ry=\"18\"/>\n<text text-anchor=\"middle\" x=\"4984.3922\" y=\"-14.3\" font-family=\"Times,serif\" font-size=\"14.00\" fill=\"#000000\">leaf=0.0187770855</text>\n</g>\n<!-- 39&#45;&gt;66 -->\n<g id=\"edge66\" class=\"edge\">\n<title>39&#45;&gt;66</title>\n<path fill=\"none\" stroke=\"#ff0000\" d=\"M4892.1464,-87.1843C4909.6992,-74.0197 4933.7715,-55.9655 4952.9238,-41.6013\"/>\n<polygon fill=\"#ff0000\" stroke=\"#ff0000\" points=\"4955.1661,-44.2946 4961.0661,-35.4946 4950.966,-38.6946 4955.1661,-44.2946\"/>\n<text text-anchor=\"middle\" x=\"4966.8922\" y=\"-57.8\" font-family=\"Times,serif\" font-size=\"14.00\" fill=\"#000000\">no, missing</text>\n</g>\n<!-- 67 -->\n<g id=\"node68\" class=\"node\">\n<title>67</title>\n<ellipse fill=\"none\" stroke=\"#000000\" cx=\"5177.3922\" cy=\"-18\" rx=\"90.1842\" ry=\"18\"/>\n<text text-anchor=\"middle\" x=\"5177.3922\" y=\"-14.3\" font-family=\"Times,serif\" font-size=\"14.00\" fill=\"#000000\">leaf=0.00647899834</text>\n</g>\n<!-- 40&#45;&gt;67 -->\n<g id=\"edge67\" class=\"edge\">\n<title>40&#45;&gt;67</title>\n<path fill=\"none\" stroke=\"#0000ff\" d=\"M5177.3922,-86.9735C5177.3922,-75.1918 5177.3922,-59.5607 5177.3922,-46.1581\"/>\n<polygon fill=\"#0000ff\" stroke=\"#0000ff\" points=\"5180.8923,-46.0033 5177.3922,-36.0034 5173.8923,-46.0034 5180.8923,-46.0033\"/>\n<text text-anchor=\"middle\" x=\"5212.8922\" y=\"-57.8\" font-family=\"Times,serif\" font-size=\"14.00\" fill=\"#000000\">yes, missing</text>\n</g>\n<!-- 68 -->\n<g id=\"node69\" class=\"node\">\n<title>68</title>\n<ellipse fill=\"none\" stroke=\"#000000\" cx=\"5374.3922\" cy=\"-18\" rx=\"88.2844\" ry=\"18\"/>\n<text text-anchor=\"middle\" x=\"5374.3922\" y=\"-14.3\" font-family=\"Times,serif\" font-size=\"14.00\" fill=\"#000000\">leaf=&#45;0.0683876425</text>\n</g>\n<!-- 40&#45;&gt;68 -->\n<g id=\"edge68\" class=\"edge\">\n<title>40&#45;&gt;68</title>\n<path fill=\"none\" stroke=\"#ff0000\" d=\"M5213.9847,-88.8399C5246.1247,-74.646 5293.053,-53.9213 5327.8551,-38.5519\"/>\n<polygon fill=\"#ff0000\" stroke=\"#ff0000\" points=\"5329.5934,-41.6104 5337.3271,-34.3688 5326.7655,-35.207 5329.5934,-41.6104\"/>\n<text text-anchor=\"middle\" x=\"5295.3922\" y=\"-57.8\" font-family=\"Times,serif\" font-size=\"14.00\" fill=\"#000000\">no</text>\n</g>\n</g>\n</svg>\n"
          },
          "metadata": {
            "tags": []
          },
          "execution_count": 119
        }
      ]
    },
    {
      "cell_type": "code",
      "metadata": {
        "id": "S6YUefZJfR-y",
        "colab_type": "code",
        "colab": {}
      },
      "source": [
        "X_test = test[test.columns.difference(['order_id', 'product_id'])]"
      ],
      "execution_count": 0,
      "outputs": []
    },
    {
      "cell_type": "code",
      "metadata": {
        "id": "VQLx4H2AfR-0",
        "colab_type": "code",
        "colab": {}
      },
      "source": [
        "X_test = X_test.drop(['reordered'], axis=1)"
      ],
      "execution_count": 0,
      "outputs": []
    },
    {
      "cell_type": "code",
      "metadata": {
        "id": "y_LWhT4pfR-1",
        "colab_type": "code",
        "outputId": "216badf6-71c2-4459-ac8e-f627d9e80e8f",
        "colab": {
          "base_uri": "https://localhost:8080/",
          "height": 224
        }
      },
      "source": [
        "X_test.tail()"
      ],
      "execution_count": 0,
      "outputs": [
        {
          "output_type": "execute_result",
          "data": {
            "text/html": [
              "<div>\n",
              "<style scoped>\n",
              "    .dataframe tbody tr th:only-of-type {\n",
              "        vertical-align: middle;\n",
              "    }\n",
              "\n",
              "    .dataframe tbody tr th {\n",
              "        vertical-align: top;\n",
              "    }\n",
              "\n",
              "    .dataframe thead th {\n",
              "        text-align: right;\n",
              "    }\n",
              "</style>\n",
              "<table border=\"1\" class=\"dataframe\">\n",
              "  <thead>\n",
              "    <tr style=\"text-align: right;\">\n",
              "      <th></th>\n",
              "      <th>days_since_prior_order</th>\n",
              "      <th>prod_orders</th>\n",
              "      <th>prod_reorder_probability</th>\n",
              "      <th>prod_reorder_ratio</th>\n",
              "      <th>prod_reorder_times</th>\n",
              "      <th>up_average_cart_position</th>\n",
              "      <th>up_first_order</th>\n",
              "      <th>up_last_order</th>\n",
              "      <th>up_order_rate</th>\n",
              "      <th>up_order_rate_since_first_order</th>\n",
              "      <th>up_orders</th>\n",
              "      <th>up_orders_since_last_order</th>\n",
              "      <th>user_average_basket</th>\n",
              "      <th>user_distinct_products</th>\n",
              "      <th>user_mean_days_since_prior</th>\n",
              "      <th>user_orders</th>\n",
              "      <th>user_period</th>\n",
              "      <th>user_reorder_ratio</th>\n",
              "      <th>user_total_products</th>\n",
              "    </tr>\n",
              "  </thead>\n",
              "  <tbody>\n",
              "    <tr>\n",
              "      <th>76011</th>\n",
              "      <td>13.0</td>\n",
              "      <td>4</td>\n",
              "      <td>0.333333</td>\n",
              "      <td>0.75</td>\n",
              "      <td>2.000000</td>\n",
              "      <td>2.0</td>\n",
              "      <td>2</td>\n",
              "      <td>2</td>\n",
              "      <td>0.200000</td>\n",
              "      <td>0.250000</td>\n",
              "      <td>1</td>\n",
              "      <td>3</td>\n",
              "      <td>0.600000</td>\n",
              "      <td>3</td>\n",
              "      <td>13.750000</td>\n",
              "      <td>5</td>\n",
              "      <td>55.0</td>\n",
              "      <td>0.333333</td>\n",
              "      <td>3</td>\n",
              "    </tr>\n",
              "    <tr>\n",
              "      <th>76012</th>\n",
              "      <td>12.0</td>\n",
              "      <td>4</td>\n",
              "      <td>0.333333</td>\n",
              "      <td>0.75</td>\n",
              "      <td>2.000000</td>\n",
              "      <td>1.0</td>\n",
              "      <td>1</td>\n",
              "      <td>1</td>\n",
              "      <td>0.166667</td>\n",
              "      <td>0.166667</td>\n",
              "      <td>1</td>\n",
              "      <td>5</td>\n",
              "      <td>0.333333</td>\n",
              "      <td>2</td>\n",
              "      <td>10.400000</td>\n",
              "      <td>6</td>\n",
              "      <td>52.0</td>\n",
              "      <td>NaN</td>\n",
              "      <td>2</td>\n",
              "    </tr>\n",
              "    <tr>\n",
              "      <th>76013</th>\n",
              "      <td>30.0</td>\n",
              "      <td>4</td>\n",
              "      <td>1.000000</td>\n",
              "      <td>0.75</td>\n",
              "      <td>2.500000</td>\n",
              "      <td>1.0</td>\n",
              "      <td>1</td>\n",
              "      <td>19</td>\n",
              "      <td>0.048780</td>\n",
              "      <td>0.048780</td>\n",
              "      <td>2</td>\n",
              "      <td>22</td>\n",
              "      <td>0.048780</td>\n",
              "      <td>1</td>\n",
              "      <td>5.150000</td>\n",
              "      <td>41</td>\n",
              "      <td>206.0</td>\n",
              "      <td>1.000000</td>\n",
              "      <td>2</td>\n",
              "    </tr>\n",
              "    <tr>\n",
              "      <th>76014</th>\n",
              "      <td>17.0</td>\n",
              "      <td>4</td>\n",
              "      <td>0.333333</td>\n",
              "      <td>0.75</td>\n",
              "      <td>2.000000</td>\n",
              "      <td>1.0</td>\n",
              "      <td>2</td>\n",
              "      <td>2</td>\n",
              "      <td>0.250000</td>\n",
              "      <td>0.333333</td>\n",
              "      <td>1</td>\n",
              "      <td>2</td>\n",
              "      <td>0.250000</td>\n",
              "      <td>1</td>\n",
              "      <td>16.666666</td>\n",
              "      <td>4</td>\n",
              "      <td>50.0</td>\n",
              "      <td>1.000000</td>\n",
              "      <td>1</td>\n",
              "    </tr>\n",
              "    <tr>\n",
              "      <th>76015</th>\n",
              "      <td>0.0</td>\n",
              "      <td>5</td>\n",
              "      <td>0.333333</td>\n",
              "      <td>1.00</td>\n",
              "      <td>2.666667</td>\n",
              "      <td>1.0</td>\n",
              "      <td>6</td>\n",
              "      <td>6</td>\n",
              "      <td>0.125000</td>\n",
              "      <td>0.333333</td>\n",
              "      <td>1</td>\n",
              "      <td>2</td>\n",
              "      <td>0.250000</td>\n",
              "      <td>2</td>\n",
              "      <td>13.857142</td>\n",
              "      <td>8</td>\n",
              "      <td>97.0</td>\n",
              "      <td>1.000000</td>\n",
              "      <td>2</td>\n",
              "    </tr>\n",
              "  </tbody>\n",
              "</table>\n",
              "</div>"
            ],
            "text/plain": [
              "       days_since_prior_order  ...  user_total_products\n",
              "76011                    13.0  ...                    3\n",
              "76012                    12.0  ...                    2\n",
              "76013                    30.0  ...                    2\n",
              "76014                    17.0  ...                    1\n",
              "76015                     0.0  ...                    2\n",
              "\n",
              "[5 rows x 19 columns]"
            ]
          },
          "metadata": {
            "tags": []
          },
          "execution_count": 122
        }
      ]
    },
    {
      "cell_type": "code",
      "metadata": {
        "id": "owBmKpQ6fR-2",
        "colab_type": "code",
        "colab": {}
      },
      "source": [
        "d_test = xgb.DMatrix(X_test)"
      ],
      "execution_count": 0,
      "outputs": []
    },
    {
      "cell_type": "code",
      "metadata": {
        "id": "PeIdJO_BfR-4",
        "colab_type": "code",
        "colab": {}
      },
      "source": [
        "test['reordered'] = xgb_model.predict(d_test)"
      ],
      "execution_count": 0,
      "outputs": []
    },
    {
      "cell_type": "code",
      "metadata": {
        "id": "Uo0KvKVPfR-5",
        "colab_type": "code",
        "outputId": "e402df84-9ae5-4682-a194-8cbe8ba490a5",
        "colab": {
          "base_uri": "https://localhost:8080/",
          "height": 119
        }
      },
      "source": [
        "test['reordered'].tail()"
      ],
      "execution_count": 0,
      "outputs": [
        {
          "output_type": "execute_result",
          "data": {
            "text/plain": [
              "76011    0.214019\n",
              "76012    0.315480\n",
              "76013    0.265739\n",
              "76014    0.561434\n",
              "76015    0.365927\n",
              "Name: reordered, dtype: float32"
            ]
          },
          "metadata": {
            "tags": []
          },
          "execution_count": 125
        }
      ]
    },
    {
      "cell_type": "code",
      "metadata": {
        "id": "mjP2rJ8EfR-9",
        "colab_type": "code",
        "outputId": "df99d7ce-11da-49b2-8c14-5522580370cd",
        "colab": {
          "base_uri": "https://localhost:8080/",
          "height": 34
        }
      },
      "source": [
        "print('formatting and writing to submission file ...')\n",
        "prd_bag = dict()\n",
        "for row in test.itertuples():\n",
        "    if row.reordered > 0.21:   ## Cutoff for lableing product as positive (can be tweaked with cross validation)\n",
        "#    if row.reordered > 0.25: \n",
        "        try:\n",
        "            prd_bag[row.order_id] += ' ' + str(row.product_id)\n",
        "        except:\n",
        "            prd_bag[row.order_id] = str(row.product_id)\n",
        "\n",
        "for order in test.order_id:\n",
        "    if order not in prd_bag:\n",
        "        prd_bag[order] = 'None'\n",
        "\n",
        "submit = pd.DataFrame.from_dict(prd_bag, orient='index')\n",
        "\n",
        "submit.reset_index(inplace=True)\n",
        "submit.columns = ['order_id', 'products']\n",
        "submit.to_csv('xgboost_submit21.csv', index=False)"
      ],
      "execution_count": 0,
      "outputs": [
        {
          "output_type": "stream",
          "text": [
            "formatting and writing to submission file ...\n"
          ],
          "name": "stdout"
        }
      ]
    },
    {
      "cell_type": "code",
      "metadata": {
        "id": "bqHDnISF9fD0",
        "colab_type": "code",
        "colab": {}
      },
      "source": [
        ""
      ],
      "execution_count": 0,
      "outputs": []
    }
  ]
}